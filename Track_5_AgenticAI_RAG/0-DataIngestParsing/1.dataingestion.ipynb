{
 "cells": [
  {
   "cell_type": "code",
   "execution_count": 7,
   "id": "9c286424",
   "metadata": {},
   "outputs": [],
   "source": [
    "import os\n",
    "import pandas as pd\n",
    "from typing import Dict, List, Any\n",
    "from langchain_core.documents import Document\n",
    "from langchain.text_splitter import RecursiveCharacterTextSplitter, CharacterTextSplitter, TokenTextSplitter"
   ]
  },
  {
   "cell_type": "markdown",
   "id": "a66aa198",
   "metadata": {},
   "source": [
    "### Document data structure in LangChain"
   ]
  },
  {
   "cell_type": "code",
   "execution_count": 13,
   "id": "268b0568",
   "metadata": {},
   "outputs": [],
   "source": [
    "doc = Document(\n",
    "    page_content=\"This is teh main text content that will be embedded and searched.\",\n",
    "    metadata={\n",
    "        \"source\": \"example.txt\",\n",
    "        \"author\": \"Bhagwat Chate\",\n",
    "        \"date\": \"2025-09-15\",\n",
    "        \"page\": 1\n",
    "    }\n",
    ")"
   ]
  },
  {
   "cell_type": "code",
   "execution_count": 14,
   "id": "09920818",
   "metadata": {},
   "outputs": [
    {
     "data": {
      "text/plain": [
       "'This is teh main text content that will be embedded and searched.'"
      ]
     },
     "execution_count": 14,
     "metadata": {},
     "output_type": "execute_result"
    }
   ],
   "source": [
    "doc.page_content"
   ]
  },
  {
   "cell_type": "code",
   "execution_count": 15,
   "id": "c041e233",
   "metadata": {},
   "outputs": [
    {
     "data": {
      "text/plain": [
       "{'source': 'example.txt',\n",
       " 'author': 'Bhagwat Chate',\n",
       " 'date': '2025-09-15',\n",
       " 'page': 1}"
      ]
     },
     "execution_count": 15,
     "metadata": {},
     "output_type": "execute_result"
    }
   ],
   "source": [
    "doc.metadata"
   ]
  },
  {
   "cell_type": "code",
   "execution_count": null,
   "id": "0abf594e",
   "metadata": {},
   "outputs": [],
   "source": []
  }
 ],
 "metadata": {
  "kernelspec": {
   "display_name": "Track_5_AgenticAI_RAG",
   "language": "python",
   "name": "python3"
  },
  "language_info": {
   "codemirror_mode": {
    "name": "ipython",
    "version": 3
   },
   "file_extension": ".py",
   "mimetype": "text/x-python",
   "name": "python",
   "nbconvert_exporter": "python",
   "pygments_lexer": "ipython3",
   "version": "3.10.18"
  }
 },
 "nbformat": 4,
 "nbformat_minor": 5
}
