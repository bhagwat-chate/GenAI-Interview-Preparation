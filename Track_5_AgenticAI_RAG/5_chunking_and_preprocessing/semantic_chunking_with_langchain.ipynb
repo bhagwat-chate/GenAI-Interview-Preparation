{
 "cells": [
  {
   "cell_type": "code",
   "execution_count": 2,
   "id": "a6f21ec1",
   "metadata": {},
   "outputs": [
    {
     "name": "stdout",
     "output_type": "stream",
     "text": [
      "\n",
      "Chunk 1:\n",
      "LangChain is a framework for building apps with LLMs. It allows you to connect models with data sources and tools.\n",
      "\n",
      "Chunk 2:\n",
      "Semantic chunking ensures the text is split into meaningful sections.\n"
     ]
    }
   ],
   "source": [
    "from langchain_openai import OpenAIEmbeddings\n",
    "from langchain_experimental.text_splitter import SemanticChunker\n",
    "from langchain_core.documents import Document\n",
    "\n",
    "# Example document\n",
    "docs = [\n",
    "    Document(page_content=\"LangChain is a framework for building apps with LLMs. \"\n",
    "                          \"It allows you to connect models with data sources and tools. \"\n",
    "                          \"Semantic chunking ensures the text is split into meaningful sections.\")\n",
    "]\n",
    "\n",
    "# Initialize embeddings\n",
    "embedding = OpenAIEmbeddings()\n",
    "\n",
    "# Initialize SemanticChunker\n",
    "chunker = SemanticChunker(embeddings=embedding)\n",
    "\n",
    "# Split into semantic chunks\n",
    "chunks = chunker.split_documents(docs)\n",
    "\n",
    "for i, c in enumerate(chunks, 1):\n",
    "    print(f\"\\nChunk {i}:\\n{c.page_content}\")\n"
   ]
  },
  {
   "cell_type": "code",
   "execution_count": null,
   "id": "02498cbc",
   "metadata": {},
   "outputs": [],
   "source": []
  },
  {
   "cell_type": "code",
   "execution_count": null,
   "id": "775ace58",
   "metadata": {},
   "outputs": [],
   "source": []
  },
  {
   "cell_type": "code",
   "execution_count": null,
   "id": "709ed0b3",
   "metadata": {},
   "outputs": [],
   "source": []
  },
  {
   "cell_type": "code",
   "execution_count": null,
   "id": "9b59e4a3",
   "metadata": {},
   "outputs": [],
   "source": []
  }
 ],
 "metadata": {
  "kernelspec": {
   "display_name": "venv (3.11.7)",
   "language": "python",
   "name": "python3"
  },
  "language_info": {
   "codemirror_mode": {
    "name": "ipython",
    "version": 3
   },
   "file_extension": ".py",
   "mimetype": "text/x-python",
   "name": "python",
   "nbconvert_exporter": "python",
   "pygments_lexer": "ipython3",
   "version": "3.11.7"
  }
 },
 "nbformat": 4,
 "nbformat_minor": 5
}
