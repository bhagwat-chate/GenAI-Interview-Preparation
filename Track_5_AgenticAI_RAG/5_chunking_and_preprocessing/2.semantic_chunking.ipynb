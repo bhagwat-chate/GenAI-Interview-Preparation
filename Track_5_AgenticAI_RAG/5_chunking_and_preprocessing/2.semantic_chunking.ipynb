{
 "cells": [
  {
   "cell_type": "code",
   "execution_count": 9,
   "id": "1ba89b0a",
   "metadata": {},
   "outputs": [],
   "source": [
    "import warnings\n",
    "warnings.filterwarnings('ignore')"
   ]
  },
  {
   "cell_type": "code",
   "execution_count": 10,
   "id": "b32e958b",
   "metadata": {},
   "outputs": [],
   "source": [
    "import os\n",
    "from sentence_transformers import SentenceTransformer, util\n",
    "from sklearn.metrics.pairwise import cosine_similarity\n",
    "from langchain_core.documents import Document\n",
    "from langchain.vectorstores import FAISS\n",
    "from langchain_openai import OpenAIEmbeddings\n",
    "from langchain_openai import ChatOpenAI\n",
    "from langchain.schema.runnable import RunnablePassthrough, RunnableMap\n",
    "from langchain.prompts import PromptTemplate\n",
    "from langchain_core.output_parsers import StrOutputParser\n",
    "from dotenv import load_dotenv\n",
    "\n",
    "load_dotenv()\n",
    "\n",
    "os.environ['OPENAI_API_KEY'] = os.getenv('OPENAI_API_KEY')\n"
   ]
  },
  {
   "cell_type": "code",
   "execution_count": null,
   "id": "565a871b",
   "metadata": {},
   "outputs": [],
   "source": [
    "# chstom semantic chunk\n",
    " \n",
    "class SemanticChunk:\n",
    "    def __init__(self, model_name='all-MiniLM-L6-v2', threshold=0.7):\n",
    "        self.model = SentenceTransformer(model=model_name)\n",
    "        self.threshold = threshold\n",
    "\n",
    "    def split(self, text: str):\n",
    "\n",
    "        ## Step 1 : Split into sentences\n",
    "        sentences = [s.strip() for s in text.split(\"\\n\") if s.strip()]\n",
    "\n",
    "        ## Step 2: Embed each sentence\n",
    "        embeddings = self.model.encode(sentences)\n",
    "\n",
    "        for i in range(1, len(sentences)):\n",
    "            sim = util.cos_sim(\n",
    "                [embeddings[i - 1]],\n",
    "                [embeddings[i]]\n",
    "            )[0][0]\n",
    "\n",
    "            if sim >= self.threshold:\n",
    "                current_chunk.append(sentences[i])\n",
    "            else:\n",
    "                chunks.append(\" \".join(current_chunk))\n",
    "                current_chunk = [sentences[i]]\n",
    "\n",
    "        # Append the last chunk\n",
    "        chunks.append(\" \".join(current_chunk))\n",
    "\n",
    "        return chunks\n"
   ]
  },
  {
   "cell_type": "code",
   "execution_count": null,
   "id": "4531a461",
   "metadata": {},
   "outputs": [],
   "source": []
  },
  {
   "cell_type": "code",
   "execution_count": null,
   "id": "e76a2323",
   "metadata": {},
   "outputs": [],
   "source": []
  },
  {
   "cell_type": "code",
   "execution_count": null,
   "id": "f32d41dc",
   "metadata": {},
   "outputs": [],
   "source": []
  },
  {
   "cell_type": "code",
   "execution_count": 6,
   "id": "7b50c207",
   "metadata": {},
   "outputs": [],
   "source": [
    "from langchain_openai import OpenAIEmbeddings\n",
    "from langchain_experimental.text_splitter import SemanticChunker\n",
    "from langchain.document_loaders import TextLoader\n",
    "\n",
    "# load the docs\n",
    "loader = TextLoader(r\"E:\\GenAI-Interview-Preparation\\Track_5_AgenticAI_RAG\\5_chunking_and_preprocessing\\langchain_intro.txt\")\n",
    "docs = loader.load()\n",
    "\n",
    "# embedding\n",
    "embeddings = OpenAIEmbeddings()\n",
    "\n",
    "# create semantic chunker\n",
    "chunker = SemanticChunker(embeddings)\n",
    "\n",
    "# split docs\n",
    "chunks = chunker.split_documents(docs)"
   ]
  },
  {
   "cell_type": "code",
   "execution_count": 7,
   "id": "f539a33b",
   "metadata": {},
   "outputs": [
    {
     "name": "stdout",
     "output_type": "stream",
     "text": [
      "\n",
      " chunk 1:\n",
      "LangChain is a framework for building applications with LLMs. Langchain provides modular abstractions to combine LLMs with tools like OpenAI and Pinecone.\n",
      "\n",
      " chunk 2:\n",
      "You can create chains, agents, memory, and retrievers. The Eiffel Tower is located in Paris. France is a popular tourist destination.\n"
     ]
    }
   ],
   "source": [
    "for i, chunk in enumerate(chunks):\n",
    "    print(f\"\\n chunk {i+1}:\\n{chunk.page_content}\")"
   ]
  },
  {
   "cell_type": "code",
   "execution_count": null,
   "id": "c9aad025",
   "metadata": {},
   "outputs": [],
   "source": []
  },
  {
   "cell_type": "code",
   "execution_count": null,
   "id": "e04a571b",
   "metadata": {},
   "outputs": [],
   "source": []
  },
  {
   "cell_type": "code",
   "execution_count": null,
   "id": "b896b206",
   "metadata": {},
   "outputs": [],
   "source": []
  }
 ],
 "metadata": {
  "kernelspec": {
   "display_name": "venv",
   "language": "python",
   "name": "python3"
  },
  "language_info": {
   "codemirror_mode": {
    "name": "ipython",
    "version": 3
   },
   "file_extension": ".py",
   "mimetype": "text/x-python",
   "name": "python",
   "nbconvert_exporter": "python",
   "pygments_lexer": "ipython3",
   "version": "3.11.13"
  }
 },
 "nbformat": 4,
 "nbformat_minor": 5
}
