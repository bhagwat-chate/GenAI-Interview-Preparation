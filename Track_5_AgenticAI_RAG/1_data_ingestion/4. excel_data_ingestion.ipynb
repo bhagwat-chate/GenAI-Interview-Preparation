{
 "cells": [
  {
   "cell_type": "markdown",
   "id": "c49be29a",
   "metadata": {},
   "source": [
    "### Data Ingestion: CSV, Excel"
   ]
  },
  {
   "cell_type": "code",
   "execution_count": 19,
   "id": "c4d29b55",
   "metadata": {},
   "outputs": [],
   "source": [
    "import os\n",
    "import pandas as pd\n",
    "from langchain.document_loaders import CSVLoader\n",
    "from langchain_community.document_loaders import UnstructuredCSVLoader"
   ]
  },
  {
   "cell_type": "code",
   "execution_count": 3,
   "id": "e3039402",
   "metadata": {},
   "outputs": [],
   "source": [
    "os.makedirs(\"data/suructured_files\", exist_ok=True)"
   ]
  },
  {
   "cell_type": "code",
   "execution_count": null,
   "id": "88b08133",
   "metadata": {},
   "outputs": [],
   "source": [
    "# create CSV file\n",
    "\n",
    "data = {\n",
    "    \"product\": [\"Wireless Mouse\", \"Mechanical Keyboard\", \"Noise-Cancelling Headphones\", \"Smartwatch\", \"External SSD\"],\n",
    "    \"price\": [25.99, 79.50, 149.99, 199.00, 89.99],\n",
    "    \"category\": [\"Accessories\", \"Accessories\", \"Audio\", \"Wearables\", \"Storage\"],\n",
    "    \"description\": [\n",
    "        \"Ergonomic wireless mouse with 2.4GHz USB receiver\",\n",
    "        \"RGB-backlit mechanical keyboard with blue switches\",\n",
    "        \"Over-ear headphones with active noise cancellation\",\n",
    "        \"Smartwatch with fitness tracking and notifications\",\n",
    "        \"Portable 1TB SSD with fast USB-C connectivity\"\n",
    "    ]\n",
    "}\n",
    "\n",
    "df = pd.DataFrame(data)\n",
    "df.to_csv('data/suructured_files/products.csv', index=False)\n"
   ]
  },
  {
   "cell_type": "code",
   "execution_count": 14,
   "id": "685a9c04",
   "metadata": {},
   "outputs": [
    {
     "data": {
      "text/html": [
       "<div>\n",
       "<style scoped>\n",
       "    .dataframe tbody tr th:only-of-type {\n",
       "        vertical-align: middle;\n",
       "    }\n",
       "\n",
       "    .dataframe tbody tr th {\n",
       "        vertical-align: top;\n",
       "    }\n",
       "\n",
       "    .dataframe thead th {\n",
       "        text-align: right;\n",
       "    }\n",
       "</style>\n",
       "<table border=\"1\" class=\"dataframe\">\n",
       "  <thead>\n",
       "    <tr style=\"text-align: right;\">\n",
       "      <th></th>\n",
       "      <th>category</th>\n",
       "      <th>total_item</th>\n",
       "      <th>total_value</th>\n",
       "    </tr>\n",
       "  </thead>\n",
       "  <tbody>\n",
       "    <tr>\n",
       "      <th>0</th>\n",
       "      <td>Accessories</td>\n",
       "      <td>2</td>\n",
       "      <td>105.49</td>\n",
       "    </tr>\n",
       "    <tr>\n",
       "      <th>1</th>\n",
       "      <td>Audio</td>\n",
       "      <td>1</td>\n",
       "      <td>149.99</td>\n",
       "    </tr>\n",
       "    <tr>\n",
       "      <th>2</th>\n",
       "      <td>Wearables</td>\n",
       "      <td>1</td>\n",
       "      <td>199.00</td>\n",
       "    </tr>\n",
       "    <tr>\n",
       "      <th>3</th>\n",
       "      <td>Storage</td>\n",
       "      <td>1</td>\n",
       "      <td>89.99</td>\n",
       "    </tr>\n",
       "  </tbody>\n",
       "</table>\n",
       "</div>"
      ],
      "text/plain": [
       "      category  total_item  total_value\n",
       "0  Accessories           2       105.49\n",
       "1        Audio           1       149.99\n",
       "2    Wearables           1       199.00\n",
       "3      Storage           1        89.99"
      ]
     },
     "execution_count": 14,
     "metadata": {},
     "output_type": "execute_result"
    }
   ],
   "source": [
    "summary_data = {\n",
    "    \"category\": [\"Accessories\", \"Audio\", \"Wearables\", \"Storage\"],\n",
    "    \"total_item\": [2, 1, 1, 1],\n",
    "    \"total_value\": [105.49, 149.99, 199.00, 89.99]\n",
    "}\n",
    "\n",
    "summary_df = pd.DataFrame(summary_data)\n",
    "summary_df"
   ]
  },
  {
   "cell_type": "code",
   "execution_count": 17,
   "id": "5a29d3f2",
   "metadata": {},
   "outputs": [],
   "source": [
    "with pd.ExcelWriter('data/suructured_files/inventory.xlsx') as writer:\n",
    "    df.to_excel(writer, sheet_name='products', index=False)\n",
    "    summary_df.to_excel(writer, sheet_name='summary', index=False)"
   ]
  },
  {
   "cell_type": "code",
   "execution_count": 28,
   "id": "1fc6d547",
   "metadata": {},
   "outputs": [
    {
     "name": "stdout",
     "output_type": "stream",
     "text": [
      "len: 1\n",
      "len: product price category description Wireless Mouse 25.99 Accessories Ergonomic wireless mouse with 2.4GHz USB receiver Mechanical Keyboard 79.5 Accessories RGB-backlit mechanical keyboard with blue switches Noise-Cancelling Headphones 149.99 Audio Over-ear headphones with active noise cancellation Smartwatch 199.0 Wearables Smartwatch with fitness tracking and notifications External SSD 89.99 Storage Portable 1TB SSD with fast USB-C connectivity\n",
      "len: {'source': 'D:\\\\Learning_Aug_2025\\\\final_gen_ai\\\\AgenticAI\\\\1_data_ingestion\\\\data\\\\suructured_files\\\\products.csv'}\n"
     ]
    }
   ],
   "source": [
    "data_csv_loader = UnstructuredCSVLoader(r'D:\\Learning_Aug_2025\\final_gen_ai\\AgenticAI\\1_data_ingestion\\data\\suructured_files\\products.csv')\n",
    "data_csv_doc = data_csv_loader.load()\n",
    "\n",
    "print(f\"len: {len(data_csv_doc)}\")\n",
    "print(f\"len: {data_csv_doc[0].page_content}\")\n",
    "print(f\"len: {data_csv_doc[0].metadata}\")\n"
   ]
  },
  {
   "cell_type": "code",
   "execution_count": 35,
   "id": "158b9052",
   "metadata": {},
   "outputs": [
    {
     "name": "stdout",
     "output_type": "stream",
     "text": [
      "len: 5\n",
      "len: product,price,category,description: Wireless Mouse,25.99,Accessories,Ergonomic wireless mouse with 2.4GHz USB receiver\n",
      "len: {'source': 'D:\\\\Learning_Aug_2025\\\\final_gen_ai\\\\AgenticAI\\\\1_data_ingestion\\\\data\\\\suructured_files\\\\products.csv', 'row': 0}\n"
     ]
    }
   ],
   "source": [
    "data_csv_loader = CSVLoader(file_path=r'D:\\Learning_Aug_2025\\final_gen_ai\\AgenticAI\\1_data_ingestion\\data\\suructured_files\\products.csv',\n",
    "                            encoding='utf-8',\n",
    "                            csv_args={\n",
    "                                'delimiter': ':',\n",
    "                                'quotechar': '\"'\n",
    "                            })\n",
    "\n",
    "data_csv = data_csv_loader.load()\n",
    "\n",
    "print(f\"len: {len(data_csv)}\")\n",
    "print(f\"len: {data_csv[0].page_content}\")\n",
    "print(f\"len: {data_csv[0].metadata}\")"
   ]
  },
  {
   "cell_type": "code",
   "execution_count": null,
   "id": "236b4b1b",
   "metadata": {},
   "outputs": [],
   "source": []
  },
  {
   "cell_type": "code",
   "execution_count": null,
   "id": "d1968c7f",
   "metadata": {},
   "outputs": [],
   "source": []
  },
  {
   "cell_type": "code",
   "execution_count": null,
   "id": "6766bcd6",
   "metadata": {},
   "outputs": [],
   "source": []
  },
  {
   "cell_type": "code",
   "execution_count": null,
   "id": "bd145a21",
   "metadata": {},
   "outputs": [],
   "source": []
  },
  {
   "cell_type": "code",
   "execution_count": null,
   "id": "6261076d",
   "metadata": {},
   "outputs": [],
   "source": []
  },
  {
   "cell_type": "code",
   "execution_count": null,
   "id": "c32ee0e7",
   "metadata": {},
   "outputs": [],
   "source": []
  }
 ],
 "metadata": {
  "kernelspec": {
   "display_name": "venv (3.11.7)",
   "language": "python",
   "name": "python3"
  },
  "language_info": {
   "codemirror_mode": {
    "name": "ipython",
    "version": 3
   },
   "file_extension": ".py",
   "mimetype": "text/x-python",
   "name": "python",
   "nbconvert_exporter": "python",
   "pygments_lexer": "ipython3",
   "version": "3.11.7"
  }
 },
 "nbformat": 4,
 "nbformat_minor": 5
}
