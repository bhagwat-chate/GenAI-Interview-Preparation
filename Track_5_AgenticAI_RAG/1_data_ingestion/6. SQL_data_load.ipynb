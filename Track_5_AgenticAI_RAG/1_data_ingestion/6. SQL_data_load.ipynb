{
 "cells": [
  {
   "cell_type": "markdown",
   "id": "54197a97",
   "metadata": {},
   "source": [
    "### SQL Database"
   ]
  },
  {
   "cell_type": "code",
   "execution_count": 38,
   "id": "026b2d82",
   "metadata": {},
   "outputs": [],
   "source": [
    "# Create sample SQLite DB\n",
    "\n",
    "import os\n",
    "import sqlite3\n",
    "\n",
    "os.makedirs(\"data/database\", exist_ok=True)\n",
    "conn = sqlite3.connect(\"data/database/company.db\")\n",
    "cursor = conn.cursor()"
   ]
  },
  {
   "cell_type": "code",
   "execution_count": 27,
   "id": "a1f20637",
   "metadata": {},
   "outputs": [
    {
     "data": {
      "text/plain": [
       "<sqlite3.Cursor at 0x2b029e49ac0>"
      ]
     },
     "execution_count": 27,
     "metadata": {},
     "output_type": "execute_result"
    }
   ],
   "source": [
    "cursor.execute('''\n",
    "                CREATE TABLE IF NOT EXISTS employees(id INTEGER PRIMARY KEY, \n",
    "                name TEXT, \n",
    "                role TEXT, \n",
    "                department TEXT, \n",
    "                salary REAL)\n",
    "               ''')"
   ]
  },
  {
   "cell_type": "code",
   "execution_count": 28,
   "id": "fdaa6ac7",
   "metadata": {},
   "outputs": [
    {
     "data": {
      "text/plain": [
       "<sqlite3.Cursor at 0x2b029e49ac0>"
      ]
     },
     "execution_count": 28,
     "metadata": {},
     "output_type": "execute_result"
    }
   ],
   "source": [
    "cursor.execute('''\n",
    "               CREATE TABLE IF NOT EXISTS projects(\n",
    "               id INTEGER PRIMARY KEY,\n",
    "               name TEXT,\n",
    "               status TEXT,\n",
    "               budget REAL,\n",
    "               load_id INTEGER)\n",
    "               ''')"
   ]
  },
  {
   "cell_type": "code",
   "execution_count": 29,
   "id": "f255f144",
   "metadata": {},
   "outputs": [],
   "source": [
    "employees = [\n",
    "    (1, 'BHAGWAT CHATE', 'GenAI Architect', 'Engineering', 350000),\n",
    "    (2, 'ALICE JOHNSON', 'ML Engineer', 'Data Science', 240000),\n",
    "    (3, 'RAVI KUMAR', 'Data Engineer', 'Engineering', 200000),\n",
    "    (4, 'MEGHA PATIL', 'AI Research Scientist', 'Research', 300000),\n",
    "    (5, 'DAVID MILLER', 'Cloud Architect', 'Infrastructure', 280000),\n",
    "    (6, 'SOPHIA LI', 'Product Manager', 'AI Products', 260000)\n",
    "]"
   ]
  },
  {
   "cell_type": "code",
   "execution_count": 30,
   "id": "98ff5a14",
   "metadata": {},
   "outputs": [],
   "source": [
    "projects = [\n",
    "    (1, 'RAG implementation', 'Active', 150000, 1),\n",
    "    (2, 'Chatbot Development', 'Completed', 120000, 2),\n",
    "    (3, 'Fraud Detection System', 'Active', 200000, 3),\n",
    "    (4, 'Recommendation Engine', 'On Hold', 175000, 2),\n",
    "    (5, 'Cloud Migration', 'Completed', 220000, 1),\n",
    "    (6, 'Generative AI Assistant', 'Planned', 300000, 4)\n",
    "]"
   ]
  },
  {
   "cell_type": "code",
   "execution_count": 31,
   "id": "d3c7917b",
   "metadata": {},
   "outputs": [
    {
     "data": {
      "text/plain": [
       "<sqlite3.Cursor at 0x2b029e49ac0>"
      ]
     },
     "execution_count": 31,
     "metadata": {},
     "output_type": "execute_result"
    }
   ],
   "source": [
    "cursor.executemany('INSERT OR REPLACE INTO employees VALUES(?,?,?,?,?)', employees)"
   ]
  },
  {
   "cell_type": "code",
   "execution_count": 33,
   "id": "84bd5712",
   "metadata": {},
   "outputs": [
    {
     "data": {
      "text/plain": [
       "<sqlite3.Cursor at 0x2b029e49ac0>"
      ]
     },
     "execution_count": 33,
     "metadata": {},
     "output_type": "execute_result"
    }
   ],
   "source": [
    "cursor.executemany('INSERT OR REPLACE INTO projects VALUES(?,?,?,?,?)', projects)"
   ]
  },
  {
   "cell_type": "markdown",
   "id": "6e272d0e",
   "metadata": {},
   "source": [
    "### Fetch data"
   ]
  },
  {
   "cell_type": "code",
   "execution_count": 34,
   "id": "b13a7110",
   "metadata": {},
   "outputs": [
    {
     "data": {
      "text/plain": [
       "<sqlite3.Cursor at 0x2b029e49ac0>"
      ]
     },
     "execution_count": 34,
     "metadata": {},
     "output_type": "execute_result"
    }
   ],
   "source": [
    "cursor.execute(\"SELECT * FROM employees\")"
   ]
  },
  {
   "cell_type": "code",
   "execution_count": 36,
   "id": "e8316dcb",
   "metadata": {},
   "outputs": [
    {
     "data": {
      "text/plain": [
       "[(1, 'BHAGWAT CHATE', 'GenAI Architect', 'Engineering', 350000.0),\n",
       " (2, 'ALICE JOHNSON', 'ML Engineer', 'Data Science', 240000.0),\n",
       " (3, 'RAVI KUMAR', 'Data Engineer', 'Engineering', 200000.0),\n",
       " (4, 'MEGHA PATIL', 'AI Research Scientist', 'Research', 300000.0),\n",
       " (5, 'DAVID MILLER', 'Cloud Architect', 'Infrastructure', 280000.0),\n",
       " (6, 'SOPHIA LI', 'Product Manager', 'AI Products', 260000.0)]"
      ]
     },
     "execution_count": 36,
     "metadata": {},
     "output_type": "execute_result"
    }
   ],
   "source": [
    "cursor.fetchall()"
   ]
  },
  {
   "cell_type": "code",
   "execution_count": 37,
   "id": "102ae3c2",
   "metadata": {},
   "outputs": [],
   "source": [
    "conn.commit()\n",
    "conn.close()"
   ]
  },
  {
   "cell_type": "code",
   "execution_count": null,
   "id": "4fad9eb7",
   "metadata": {},
   "outputs": [],
   "source": []
  },
  {
   "cell_type": "code",
   "execution_count": null,
   "id": "d0fbcc8f",
   "metadata": {},
   "outputs": [],
   "source": []
  }
 ],
 "metadata": {
  "kernelspec": {
   "display_name": "venv (3.11.7)",
   "language": "python",
   "name": "python3"
  },
  "language_info": {
   "codemirror_mode": {
    "name": "ipython",
    "version": 3
   },
   "file_extension": ".py",
   "mimetype": "text/x-python",
   "name": "python",
   "nbconvert_exporter": "python",
   "pygments_lexer": "ipython3",
   "version": "3.11.7"
  }
 },
 "nbformat": 4,
 "nbformat_minor": 5
}
