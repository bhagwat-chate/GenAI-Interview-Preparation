{
 "cells": [
  {
   "cell_type": "code",
   "execution_count": null,
   "id": "264e2ac7",
   "metadata": {},
   "outputs": [],
   "source": [
    "from langchain_community.utilities import SQLDatabase\n",
    "from langchain_community.document_loaders import SQLDatabaseLoader"
   ]
  },
  {
   "cell_type": "markdown",
   "id": "ad06a0e4",
   "metadata": {},
   "source": [
    "### Method 1"
   ]
  },
  {
   "cell_type": "code",
   "execution_count": 6,
   "id": "e1fe8ef6",
   "metadata": {},
   "outputs": [
    {
     "name": "stdout",
     "output_type": "stream",
     "text": [
      " tables: ['employees', 'projects']\n",
      "table DDL: \n",
      "CREATE TABLE employees (\n",
      "\tid INTEGER, \n",
      "\tname TEXT, \n",
      "\trole TEXT, \n",
      "\tdepartment TEXT, \n",
      "\tsalary REAL, \n",
      "\tPRIMARY KEY (id)\n",
      ")\n",
      "\n",
      "/*\n",
      "3 rows from employees table:\n",
      "id\tname\trole\tdepartment\tsalary\n",
      "1\tBHAGWAT CHATE\tGenAI Architect\tEngineering\t350000.0\n",
      "2\tALICE JOHNSON\tML Engineer\tData Science\t240000.0\n",
      "3\tRAVI KUMAR\tData Engineer\tEngineering\t200000.0\n",
      "*/\n",
      "\n",
      "\n",
      "CREATE TABLE projects (\n",
      "\tid INTEGER, \n",
      "\tname TEXT, \n",
      "\tstatus TEXT, \n",
      "\tbudget REAL, \n",
      "\tload_id INTEGER, \n",
      "\tPRIMARY KEY (id)\n",
      ")\n",
      "\n",
      "/*\n",
      "3 rows from projects table:\n",
      "id\tname\tstatus\tbudget\tload_id\n",
      "1\tRAG implementation\tActive\t150000.0\t1\n",
      "2\tChatbot Development\tCompleted\t120000.0\t2\n",
      "3\tFraud Detection System\tActive\t200000.0\t3\n",
      "*/\n"
     ]
    }
   ],
   "source": [
    "db = SQLDatabase.from_uri(\"sqlite:///D:/Learning_Aug_2025/final_gen_ai/AgenticAI/1_data_ingestion/data/database/company.db\")\n",
    "\n",
    "print(f\" tables: {db.get_usable_table_names()}\")\n",
    "print(f\"table DDL: {db.get_table_info()}\")"
   ]
  },
  {
   "cell_type": "code",
   "execution_count": 21,
   "id": "56c6d3ef",
   "metadata": {},
   "outputs": [
    {
     "data": {
      "text/plain": [
       "[Document(metadata={'table': 'employees'}, page_content='id: 1\\nname: BHAGWAT CHATE\\nrole: GenAI Architect\\ndepartment: Engineering\\nsalary: 350000.0'),\n",
       " Document(metadata={'table': 'employees'}, page_content='id: 2\\nname: ALICE JOHNSON\\nrole: ML Engineer\\ndepartment: Data Science\\nsalary: 240000.0'),\n",
       " Document(metadata={'table': 'employees'}, page_content='id: 3\\nname: RAVI KUMAR\\nrole: Data Engineer\\ndepartment: Engineering\\nsalary: 200000.0'),\n",
       " Document(metadata={'table': 'employees'}, page_content='id: 4\\nname: MEGHA PATIL\\nrole: AI Research Scientist\\ndepartment: Research\\nsalary: 300000.0'),\n",
       " Document(metadata={'table': 'employees'}, page_content='id: 5\\nname: DAVID MILLER\\nrole: Cloud Architect\\ndepartment: Infrastructure\\nsalary: 280000.0'),\n",
       " Document(metadata={'table': 'employees'}, page_content='id: 6\\nname: SOPHIA LI\\nrole: Product Manager\\ndepartment: AI Products\\nsalary: 260000.0')]"
      ]
     },
     "execution_count": 21,
     "metadata": {},
     "output_type": "execute_result"
    }
   ],
   "source": [
    "from langchain_core.documents import Document\n",
    "from typing import List\n",
    "import sqlite3\n",
    "\n",
    "def sql_to_doc(db_path: str) -> List[Document]:\n",
    "    conn = sqlite3.connect(db_path)\n",
    "    cursor = conn.cursor()\n",
    "\n",
    "    cursor.execute(\"SELECT * FROM employees\")\n",
    "    data = cursor.fetchall()\n",
    "    cols = [col[0] for col in cursor.description]  # column names\n",
    "\n",
    "    docs = []\n",
    "    for row in data:\n",
    "        content = \"\\n\".join([f\"{col}: {val}\" for col, val in zip(cols, row)])\n",
    "        docs.append(Document(page_content=content, metadata={\"table\": \"employees\"}))\n",
    "\n",
    "    conn.close()\n",
    "    return docs\n",
    "\n",
    "docs = sql_to_doc(r\"D:\\Learning_Aug_2025\\final_gen_ai\\AgenticAI\\1_data_ingestion\\data\\database\\company.db\")\n",
    "docs\n"
   ]
  },
  {
   "cell_type": "code",
   "execution_count": null,
   "id": "8b8ba361",
   "metadata": {},
   "outputs": [],
   "source": []
  }
 ],
 "metadata": {
  "kernelspec": {
   "display_name": "venv (3.11.7)",
   "language": "python",
   "name": "python3"
  },
  "language_info": {
   "codemirror_mode": {
    "name": "ipython",
    "version": 3
   },
   "file_extension": ".py",
   "mimetype": "text/x-python",
   "name": "python",
   "nbconvert_exporter": "python",
   "pygments_lexer": "ipython3",
   "version": "3.11.7"
  }
 },
 "nbformat": 4,
 "nbformat_minor": 5
}
