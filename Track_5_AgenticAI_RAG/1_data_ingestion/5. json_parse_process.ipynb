{
 "cells": [
  {
   "cell_type": "markdown",
   "id": "c191e123",
   "metadata": {},
   "source": [
    "### Json Parsing and Processing"
   ]
  },
  {
   "cell_type": "code",
   "execution_count": 1,
   "id": "4d5f26ce",
   "metadata": {},
   "outputs": [],
   "source": [
    "import os\n",
    "import json\n",
    "\n",
    "data_json = {\n",
    "  \"company\": \"TechVision Labs\",\n",
    "  \"department\": \"Artificial Intelligence\",\n",
    "  \"employees\": [\n",
    "    {\n",
    "      \"id\": 1,\n",
    "      \"name\": \"Alice Johnson\",\n",
    "      \"role\": \"Machine Learning Engineer\",\n",
    "      \"skills\": [\"Python\", \"TensorFlow\", \"Scikit-learn\", \"Data Engineering\"],\n",
    "      \"projects\": [\n",
    "        {\"name\": \"Fraud Detection System\", \"status\": \"Completed\"},\n",
    "        {\"name\": \"Recommendation Engine\", \"status\": \"In Progress\"}\n",
    "      ]\n",
    "    },\n",
    "    {\n",
    "      \"id\": 2,\n",
    "      \"name\": \"Ravi Kumar\",\n",
    "      \"role\": \"Generative AI Architect\",\n",
    "      \"skills\": [\"Python\", \"LangChain\", \"AWS\", \"LLMOps\"],\n",
    "      \"projects\": [\n",
    "        {\"name\": \"Document Intelligence RAG\", \"status\": \"In Progress\"},\n",
    "        {\"name\": \"AI Chatbot Platform\", \"status\": \"Planned\"}\n",
    "      ]\n",
    "    }\n",
    "  ]\n",
    "}\n"
   ]
  },
  {
   "cell_type": "code",
   "execution_count": 7,
   "id": "bd7891dc",
   "metadata": {},
   "outputs": [],
   "source": [
    "os.makedirs(\"data/json_files\", exist_ok=True)\n",
    "with open(\"data/json_files/company_data.json\", 'w') as f:\n",
    "    json.dump(data_json, f, indent=2)"
   ]
  },
  {
   "cell_type": "code",
   "execution_count": 8,
   "id": "99eec05f",
   "metadata": {},
   "outputs": [],
   "source": [
    "event_json=[\n",
    "  {\"timestamp\": \"2025-09-18T09:15:23Z\", \"event\": \"page_view\", \"user_login\": \"alice_j\", \"user_id\": 101, \"page\": \"/dashboard\", \"amount\": 0},\n",
    "  {\"timestamp\": \"2025-09-18T09:18:45Z\", \"event\": \"purchase\", \"user_login\": \"ravi_k\", \"user_id\": 102, \"page\": \"/checkout\", \"amount\": 199.99},\n",
    "  {\"timestamp\": \"2025-09-18T09:22:11Z\", \"event\": \"add_to_cart\", \"user_login\": \"megha_p\", \"user_id\": 103, \"page\": \"/products/ssd\", \"amount\": 89.99},\n",
    "  {\"timestamp\": \"2025-09-18T09:25:32Z\", \"event\": \"login\", \"user_login\": \"alice_j\", \"user_id\": 101, \"page\": \"/login\", \"amount\": 0},\n",
    "  {\"timestamp\": \"2025-09-18T09:30:50Z\", \"event\": \"subscription\", \"user_login\": \"david_m\", \"user_id\": 104, \"page\": \"/subscription\", \"amount\": 29.99}\n",
    "]\n",
    "\n",
    "with open(\"data/json_files/events.json\", \"w\") as f:\n",
    "    for item in event_json:\n",
    "        f.write(json.dumps(item) + '\\n')\n",
    "        "
   ]
  },
  {
   "cell_type": "markdown",
   "id": "d8f9c12c",
   "metadata": {},
   "source": [
    "### Json Processing"
   ]
  },
  {
   "cell_type": "code",
   "execution_count": 3,
   "id": "e2b08d1f",
   "metadata": {},
   "outputs": [],
   "source": [
    "from langchain_community.document_loaders import JSONLoader"
   ]
  },
  {
   "cell_type": "markdown",
   "id": "4bbd057c",
   "metadata": {},
   "source": [
    "#### Method 1"
   ]
  },
  {
   "cell_type": "code",
   "execution_count": 8,
   "id": "0d3d6905",
   "metadata": {},
   "outputs": [],
   "source": [
    "employee_loader = JSONLoader(\n",
    "    file_path=r\"D:\\Learning_Aug_2025\\final_gen_ai\\AgenticAI\\1_data_ingestion\\data\\json_files\\company_data.json\",\n",
    "    jq_schema='.employees[]',\n",
    "    text_content=False\n",
    ")"
   ]
  },
  {
   "cell_type": "code",
   "execution_count": 9,
   "id": "f20fb6a1",
   "metadata": {},
   "outputs": [
    {
     "data": {
      "text/plain": [
       "[Document(metadata={'source': 'D:\\\\Learning_Aug_2025\\\\final_gen_ai\\\\AgenticAI\\\\1_data_ingestion\\\\data\\\\json_files\\\\company_data.json', 'seq_num': 1}, page_content='{\"id\": 1, \"name\": \"Alice Johnson\", \"role\": \"Machine Learning Engineer\", \"skills\": [\"Python\", \"TensorFlow\", \"Scikit-learn\", \"Data Engineering\"], \"projects\": [{\"name\": \"Fraud Detection System\", \"status\": \"Completed\"}, {\"name\": \"Recommendation Engine\", \"status\": \"In Progress\"}]}'),\n",
       " Document(metadata={'source': 'D:\\\\Learning_Aug_2025\\\\final_gen_ai\\\\AgenticAI\\\\1_data_ingestion\\\\data\\\\json_files\\\\company_data.json', 'seq_num': 2}, page_content='{\"id\": 2, \"name\": \"Ravi Kumar\", \"role\": \"Generative AI Architect\", \"skills\": [\"Python\", \"LangChain\", \"AWS\", \"LLMOps\"], \"projects\": [{\"name\": \"Document Intelligence RAG\", \"status\": \"In Progress\"}, {\"name\": \"AI Chatbot Platform\", \"status\": \"Planned\"}]}')]"
      ]
     },
     "execution_count": 9,
     "metadata": {},
     "output_type": "execute_result"
    }
   ],
   "source": [
    "employee_data = employee_loader.load()\n",
    "employee_data"
   ]
  },
  {
   "cell_type": "code",
   "execution_count": 10,
   "id": "59e87f98",
   "metadata": {},
   "outputs": [],
   "source": [
    "from langchain_core.documents import Document"
   ]
  },
  {
   "cell_type": "code",
   "execution_count": null,
   "id": "38506c58",
   "metadata": {},
   "outputs": [],
   "source": []
  }
 ],
 "metadata": {
  "kernelspec": {
   "display_name": "venv (3.11.7)",
   "language": "python",
   "name": "python3"
  },
  "language_info": {
   "codemirror_mode": {
    "name": "ipython",
    "version": 3
   },
   "file_extension": ".py",
   "mimetype": "text/x-python",
   "name": "python",
   "nbconvert_exporter": "python",
   "pygments_lexer": "ipython3",
   "version": "3.11.7"
  }
 },
 "nbformat": 4,
 "nbformat_minor": 5
}
