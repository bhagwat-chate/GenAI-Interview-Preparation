{
 "cells": [
  {
   "cell_type": "markdown",
   "id": "7bd332e9",
   "metadata": {},
   "source": [
    "### TextLoader - Read single text file"
   ]
  },
  {
   "cell_type": "code",
   "execution_count": 1,
   "id": "bc022dd7",
   "metadata": {},
   "outputs": [],
   "source": [
    "import os\n",
    "os.makedirs(\"data/text_files\", exist_ok=True)\n",
    "from langchain.document_loaders import TextLoader"
   ]
  },
  {
   "cell_type": "code",
   "execution_count": 2,
   "id": "669ba117",
   "metadata": {},
   "outputs": [
    {
     "data": {
      "text/plain": [
       "[Document(metadata={'source': '1_data_ingestion/data/text_files/python_intro.txt'}, page_content='\\nPython Programming Introduction\\n\\nWhat is Python?\\n\\nDefinition:\\nPython is a high-level, interpreted, general-purpose programming language known for its readability, simplicity, and versatility.\\n')]"
      ]
     },
     "execution_count": 2,
     "metadata": {},
     "output_type": "execute_result"
    }
   ],
   "source": [
    "txt_loader = TextLoader(file_path=\"1_data_ingestion/data/text_files/python_intro.txt\", encoding='utf-8')\n",
    "txt_data = txt_loader.load()\n",
    "\n",
    "txt_data"
   ]
  },
  {
   "cell_type": "code",
   "execution_count": 3,
   "id": "ffc13f79",
   "metadata": {},
   "outputs": [
    {
     "name": "stdout",
     "output_type": "stream",
     "text": [
      "\n",
      "Python Programming Introduction\n",
      "\n",
      "What is Python?\n",
      "\n",
      "Definition:\n",
      "Python is a high-level, interpreted, \n"
     ]
    }
   ],
   "source": [
    "print(txt_data[0].page_content[0:100])"
   ]
  },
  {
   "cell_type": "code",
   "execution_count": 4,
   "id": "314cdc9d",
   "metadata": {},
   "outputs": [
    {
     "data": {
      "text/plain": [
       "{'source': '1_data_ingestion/data/text_files/python_intro.txt'}"
      ]
     },
     "execution_count": 4,
     "metadata": {},
     "output_type": "execute_result"
    }
   ],
   "source": [
    "txt_data[0].metadata"
   ]
  },
  {
   "cell_type": "markdown",
   "id": "240e8252",
   "metadata": {},
   "source": [
    "### DirectoryLoader - Multiple text files"
   ]
  },
  {
   "cell_type": "code",
   "execution_count": 5,
   "id": "57ba5ce6",
   "metadata": {},
   "outputs": [
    {
     "name": "stdout",
     "output_type": "stream",
     "text": [
      "\n",
      "Document 1\n",
      "metadata: {'source': 'D:\\\\Learning_Aug_2025\\\\final_gen_ai\\\\AgenticAI\\\\1_data_ingestion\\\\data\\\\text_files\\\\ml_intro.txt'}\n",
      "length: 7012\n",
      "\n",
      "Document 2\n",
      "metadata: {'source': 'D:\\\\Learning_Aug_2025\\\\final_gen_ai\\\\AgenticAI\\\\1_data_ingestion\\\\data\\\\text_files\\\\python_intro.txt'}\n",
      "length: 3272\n"
     ]
    }
   ],
   "source": [
    "from langchain.document_loaders import DirectoryLoader, TextLoader\n",
    "\n",
    "dir_path = r\"D:\\Learning_Aug_2025\\final_gen_ai\\AgenticAI\\1_data_ingestion\\data\\text_files\"\n",
    "\n",
    "dir_loader = DirectoryLoader(\n",
    "    path=dir_path,\n",
    "    glob=\"**/*.txt\",\n",
    "    loader_cls=lambda path: TextLoader(path, encoding=\"utf-8\")   # force utf-8\n",
    ")\n",
    "\n",
    "data_doc = dir_loader.load()\n",
    "\n",
    "for i, doc in enumerate(data_doc, start=1):\n",
    "    print(f\"\\nDocument {i}\")\n",
    "    print(f\"metadata: {doc.metadata}\")\n",
    "    print(f\"length: {len(doc.page_content)}\")\n"
   ]
  },
  {
   "cell_type": "markdown",
   "id": "59437702",
   "metadata": {},
   "source": [
    "### Text Splitting Strategies"
   ]
  },
  {
   "cell_type": "code",
   "execution_count": 6,
   "id": "0ae7a8bc",
   "metadata": {},
   "outputs": [
    {
     "name": "stderr",
     "output_type": "stream",
     "text": [
      "Created a chunk of size 471, which is longer than the specified 200\n",
      "Created a chunk of size 363, which is longer than the specified 200\n"
     ]
    }
   ],
   "source": [
    "from langchain.text_splitter import CharacterTextSplitter, RecursiveCharacterTextSplitter, TextSplitter\n",
    "\n",
    "char_txt_splitter = CharacterTextSplitter(\n",
    "    separator='\\n',\n",
    "    chunk_size=200,\n",
    "    chunk_overlap=20,\n",
    "    length_function=len\n",
    ")\n",
    "\n",
    "data_doc_splited = char_txt_splitter.split_text(data_doc[0].page_content)"
   ]
  },
  {
   "cell_type": "code",
   "execution_count": 7,
   "id": "85e44cc4",
   "metadata": {},
   "outputs": [
    {
     "name": "stdout",
     "output_type": "stream",
     "text": [
      "39\n",
      "Machine Learning Introduction\n",
      "---\n",
      "## What is Machine Learning?\n",
      "----------------------------\n",
      "Machine Learning (ML) is a subfield of Artificial Intelligence (AI) that focuses on building systems capable of **learning from data** and **improving over time without being explicitly programmed**. Traditional software relies on fixed instructions provided by humans, but ML systems derive rules and patterns directly from examples. This ability makes ML a powerful tool for solving complex problems that are difficult or impossible to describe with hand-written rules.\n",
      "----------------------------\n",
      "At its core, ML answers the question: *“Given data, how can we build algorithms that improve their performance as more data becomes available?”*\n",
      "---\n",
      "## The Essence of ML\n",
      "----------------------------\n",
      "## The Essence of ML\n",
      "* **Data-driven approach**: Instead of crafting rules, we provide data and let the algorithm discover structure.\n",
      "* **Adaptability**: Models can evolve as new data arrives.\n",
      "----------------------------\n",
      "* **Prediction and Decision-making**: The primary goal is to make accurate predictions or informed decisions.\n",
      "---\n",
      "## Types of Machine Learning\n",
      "1. **Supervised Learning**\n",
      "----------------------------\n",
      "* Data is labeled: input–output pairs are provided.\n",
      "   * Goal: learn a mapping from inputs (features) to outputs (labels).\n",
      "   * Examples:\n",
      "----------------------------\n",
      "* Examples:\n",
      "     * Predicting house prices from features like size and location (regression).\n",
      "     * Classifying emails as spam or not spam (classification).\n",
      "----------------------------\n",
      "* Algorithms: Linear Regression, Logistic Regression, Decision Trees, Random Forests, Support Vector Machines, Neural Networks.\n",
      "2. **Unsupervised Learning**\n",
      "----------------------------\n",
      "* Data is unlabeled: no explicit outputs are provided.\n",
      "   * Goal: discover hidden patterns, groupings, or structures.\n",
      "   * Examples:\n",
      "     * Customer segmentation in marketing.\n",
      "----------------------------\n",
      "* Dimensionality reduction for visualization (PCA, t-SNE).\n",
      "   * Algorithms: K-means Clustering, Hierarchical Clustering, Gaussian Mixture Models, Autoencoders.\n",
      "3. **Reinforcement Learning (RL)**\n",
      "----------------------------\n",
      "* Agent interacts with an environment and learns through trial and error.\n",
      "   * Feedback comes as rewards or penalties.\n",
      "   * Examples:\n",
      "     * Training robots to walk.\n",
      "----------------------------\n",
      "* Game-playing AI like AlphaGo.\n",
      "   * Core concepts: States, Actions, Rewards, Policies, Value Functions.\n",
      "4. **Semi-Supervised and Self-Supervised Learning**\n",
      "----------------------------\n",
      "* **Semi-Supervised**: A small amount of labeled data combined with a large amount of unlabeled data.\n",
      "----------------------------\n",
      "* **Self-Supervised**: Learning internal representations from unlabeled data by creating surrogate tasks (used in modern NLP and vision).\n",
      "---\n",
      "## ML Workflow\n",
      "1. **Problem Definition**\n",
      "----------------------------\n",
      "* Clearly define the objective (e.g., predict churn, detect fraud).\n",
      "2. **Data Collection**\n",
      "   * Gather data from sources: databases, sensors, logs, APIs.\n",
      "3. **Data Preprocessing**\n",
      "----------------------------\n",
      "* Clean data: handle missing values, outliers.\n",
      "   * Transform: normalize, encode categorical variables.\n",
      "4. **Feature Engineering**\n",
      "   * Select or construct meaningful variables.\n",
      "----------------------------\n",
      "* Example: from timestamps derive “day of week.”\n",
      "5. **Model Selection**\n",
      "   * Choose algorithms based on problem type (classification, regression, clustering).\n",
      "6. **Training**\n",
      "----------------------------\n",
      "6. **Training**\n",
      "   * Fit the model on training data.\n",
      "   * Use optimization algorithms like Gradient Descent.\n",
      "7. **Evaluation**\n",
      "----------------------------\n",
      "7. **Evaluation**\n",
      "   * Metrics: Accuracy, Precision, Recall, F1-score, ROC-AUC for classification; RMSE, MAE for regression.\n",
      "   * Cross-validation for robust estimates.\n",
      "8. **Deployment**\n",
      "----------------------------\n",
      "8. **Deployment**\n",
      "   * Integrate the trained model into production systems.\n",
      "   * Serve predictions via APIs or embedded applications.\n",
      "9. **Monitoring and Maintenance**\n",
      "----------------------------\n",
      "* Track model performance in real-world usage.\n",
      "   * Retrain with fresh data to prevent drift.\n",
      "---\n",
      "## Applications of ML\n",
      "----------------------------\n",
      "* **Healthcare**: Disease diagnosis from imaging, drug discovery, personalized treatment.\n",
      "* **Finance**: Fraud detection, algorithmic trading, credit scoring.\n",
      "----------------------------\n",
      "* **Retail**: Recommendation engines (Amazon, Netflix), inventory optimization.\n",
      "* **Transportation**: Autonomous vehicles, route optimization.\n",
      "----------------------------\n",
      "* **Natural Language Processing (NLP)**: Chatbots, sentiment analysis, translation.\n",
      "* **Computer Vision**: Face recognition, object detection, medical imaging analysis.\n",
      "----------------------------\n",
      "* **Cybersecurity**: Intrusion detection, phishing detection.\n",
      "* **Manufacturing**: Predictive maintenance, quality control.\n",
      "---\n",
      "## Common Algorithms and Techniques\n",
      "----------------------------\n",
      "* **Linear Models**: Linear Regression, Logistic Regression.\n",
      "* **Tree-based Models**: Decision Trees, Random Forests, Gradient Boosted Trees (XGBoost, LightGBM, CatBoost).\n",
      "----------------------------\n",
      "* **Instance-based**: k-Nearest Neighbors (kNN).\n",
      "* **Probabilistic Models**: Naive Bayes, Hidden Markov Models.\n",
      "----------------------------\n",
      "* **Neural Networks & Deep Learning**: Feedforward NNs, CNNs for images, RNNs and Transformers for sequences.\n",
      "* **Clustering**: K-means, DBSCAN, Hierarchical clustering.\n",
      "----------------------------\n",
      "* **Dimensionality Reduction**: PCA, LDA, t-SNE, UMAP.\n",
      "---\n",
      "## Strengths of ML\n",
      "* **Automation**: Reduces need for manual programming of rules.\n",
      "* **Scalability**: Handles vast amounts of data.\n",
      "----------------------------\n",
      "* **Accuracy**: Improves predictions over heuristic-based systems.\n",
      "* **Versatility**: Applicable across industries and problem domains.\n",
      "---\n",
      "## Challenges in ML\n",
      "1. **Data Quality and Quantity**\n",
      "----------------------------\n",
      "* Garbage in → garbage out. Poor data leads to poor models.\n",
      "2. **Bias and Fairness**\n",
      "   * Models inherit biases present in data, leading to unfair decisions.\n",
      "3. **Interpretability**\n",
      "----------------------------\n",
      "* Complex models like deep neural networks act as “black boxes.”\n",
      "4. **Overfitting and Underfitting**\n",
      "   * Overfitting: Model memorizes training data, fails on new data.\n",
      "----------------------------\n",
      "* Underfitting: Model too simple to capture patterns.\n",
      "5. **Computational Resources**\n",
      "   * Training large models requires GPUs, TPUs, and distributed systems.\n",
      "6. **Deployment and Maintenance**\n",
      "----------------------------\n",
      "* Integration into production is often harder than model building.\n",
      "   * Models degrade over time due to concept drift.\n",
      "---\n",
      "## Future of ML\n",
      "----------------------------\n",
      "---\n",
      "## Future of ML\n",
      "* **Automated Machine Learning (AutoML)**: Tools that automate model selection, tuning, and deployment.\n",
      "* **Explainable AI (XAI)**: Making models interpretable and transparent.\n",
      "----------------------------\n",
      "* **Edge ML**: Running models on devices like smartphones, IoT sensors.\n",
      "* **Ethical AI**: Addressing fairness, accountability, and transparency.\n",
      "----------------------------\n",
      "* **Integration with Generative AI**: Combining predictive ML with generative models for more powerful applications.\n",
      "---\n",
      "## Extended Summary\n",
      "----------------------------\n",
      "Machine Learning is the **engine of modern AI**, enabling machines to learn from data and improve performance without explicit programming. It spans **supervised, unsupervised, and reinforcement learning**, with applications in almost every sector. The typical ML workflow involves problem definition, data preparation, model training, evaluation, and deployment.\n",
      "----------------------------\n",
      "Its strengths lie in **automation, scalability, and versatility**, but challenges like bias, interpretability, and resource demands remain. With advancements in deep learning, AutoML, and explainability, ML continues to shape the future of technology, powering everything from recommendation engines to autonomous vehicles and advanced medical diagnostics.\n",
      "----------------------------\n"
     ]
    }
   ],
   "source": [
    "print(len(data_doc_splited))\n",
    "for i in range(len(data_doc_splited)):\n",
    "    print(data_doc_splited[i])\n",
    "    print(\"----------------------------\")"
   ]
  },
  {
   "cell_type": "code",
   "execution_count": 8,
   "id": "5b35270c",
   "metadata": {},
   "outputs": [
    {
     "data": {
      "text/plain": [
       "3272"
      ]
     },
     "execution_count": 8,
     "metadata": {},
     "output_type": "execute_result"
    }
   ],
   "source": [
    "len(data_doc[1].page_content)"
   ]
  },
  {
   "cell_type": "code",
   "execution_count": null,
   "id": "9742dfdf",
   "metadata": {},
   "outputs": [],
   "source": []
  },
  {
   "cell_type": "code",
   "execution_count": null,
   "id": "c6dd6214",
   "metadata": {},
   "outputs": [],
   "source": []
  }
 ],
 "metadata": {
  "kernelspec": {
   "display_name": "venv (3.11.7)",
   "language": "python",
   "name": "python3"
  },
  "language_info": {
   "codemirror_mode": {
    "name": "ipython",
    "version": 3
   },
   "file_extension": ".py",
   "mimetype": "text/x-python",
   "name": "python",
   "nbconvert_exporter": "python",
   "pygments_lexer": "ipython3",
   "version": "3.11.7"
  }
 },
 "nbformat": 4,
 "nbformat_minor": 5
}
