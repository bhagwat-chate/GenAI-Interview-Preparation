{
 "cells": [
  {
   "cell_type": "code",
   "execution_count": 17,
   "id": "0ff64e83",
   "metadata": {},
   "outputs": [
    {
     "name": "stdout",
     "output_type": "stream",
     "text": [
      "index already exists in Pinecone: 'idx-pinecone'\n"
     ]
    }
   ],
   "source": [
    "import os\n",
    "from dotenv import load_dotenv\n",
    "from pinecone import Pinecone\n",
    "from langchain_openai import OpenAIEmbeddings\n",
    "from langchain_pinecone import PineconeVectorStore\n",
    "from pinecone import ServerlessSpec\n",
    "\n",
    "load_dotenv()\n",
    "os.environ['PINECONE_API_KEY'] = os.getenv('PINECONE_API_KEY')\n",
    "os.environ['OPENAI_API_KEY'] = os.getenv('OPENAI_API_KEY')\n",
    "\n",
    "pinecone = Pinecone()\n",
    "embedding = OpenAIEmbeddings(model='text-embedding-3-small',\n",
    "                             dimensions=1536\n",
    "                             )\n",
    "\n",
    "index_name = \"idx-pinecone\"\n",
    "if not pinecone.has_index(index_name):\n",
    "    pinecone.create_index(\n",
    "        name=index_name,\n",
    "        embedding=embedding,\n",
    "        dimension=1536,\n",
    "        spec=ServerlessSpec(cloud='aws', region='us-east-1'),\n",
    "        metric='cosine'\n",
    "    )\n",
    "    print(f\"index created in Pinecone: '{index_name}'\")\n",
    "else:\n",
    "    print(f\"index already exists in Pinecone: '{index_name}'\")"
   ]
  },
  {
   "cell_type": "code",
   "execution_count": 15,
   "id": "62bb5762",
   "metadata": {},
   "outputs": [],
   "source": [
    "pc_vector_store = PineconeVectorStore(index=pinecone.Index(index_name), embedding=embedding)"
   ]
  },
  {
   "cell_type": "code",
   "execution_count": 21,
   "id": "49db4f66",
   "metadata": {},
   "outputs": [
    {
     "data": {
      "text/plain": [
       "[Document(metadata={'source': 'tweet'}, page_content='I had chocolate chip pancakes and scrambled eggs for breakfast this morning.'),\n",
       " Document(metadata={'source': 'news'}, page_content='The weather forecast for tomorrow is cloudy and overcast, with a high of 62 degrees.'),\n",
       " Document(metadata={'source': 'tweet'}, page_content='Building an exciting new project with LangChain - come check it out!'),\n",
       " Document(metadata={'source': 'news'}, page_content='Robbers broke into the city bank and stole $1 million in cash.'),\n",
       " Document(metadata={'source': 'tweet'}, page_content=\"Wow! That was an amazing movie. I can't wait to see it again.\"),\n",
       " Document(metadata={'source': 'website'}, page_content='Is the new iPhone worth the price? Read this review to find out.'),\n",
       " Document(metadata={'source': 'website'}, page_content='The top 10 soccer players in the world right now.'),\n",
       " Document(metadata={'source': 'tweet'}, page_content='LangGraph is the best framework for building stateful, agentic applications!'),\n",
       " Document(metadata={'source': 'tweet'}, page_content='I have a bad feeling I am going to get deleted :(')]"
      ]
     },
     "execution_count": 21,
     "metadata": {},
     "output_type": "execute_result"
    }
   ],
   "source": [
    "from langchain_core.documents import Document\n",
    "\n",
    "from langchain_core.documents import Document\n",
    "\n",
    "documents = [\n",
    "    Document(\n",
    "        page_content=\"I had chocolate chip pancakes and scrambled eggs for breakfast this morning.\",\n",
    "        metadata={\"source\": \"tweet\"},\n",
    "    ),\n",
    "    Document(\n",
    "        page_content=\"The weather forecast for tomorrow is cloudy and overcast, with a high of 62 degrees.\",\n",
    "        metadata={\"source\": \"news\"},\n",
    "    ),\n",
    "    Document(\n",
    "        page_content=\"Building an exciting new project with LangChain - come check it out!\",\n",
    "        metadata={\"source\": \"tweet\"},\n",
    "    ),\n",
    "    Document(\n",
    "        page_content=\"Robbers broke into the city bank and stole $1 million in cash.\",\n",
    "        metadata={\"source\": \"news\"},\n",
    "    ),\n",
    "    Document(\n",
    "        page_content=\"Wow! That was an amazing movie. I can't wait to see it again.\",\n",
    "        metadata={\"source\": \"tweet\"},\n",
    "    ),\n",
    "    Document(\n",
    "        page_content=\"Is the new iPhone worth the price? Read this review to find out.\",\n",
    "        metadata={\"source\": \"website\"},\n",
    "    ),\n",
    "    Document(\n",
    "        page_content=\"The top 10 soccer players in the world right now.\",\n",
    "        metadata={\"source\": \"website\"},\n",
    "    ),\n",
    "    Document(\n",
    "        page_content=\"LangGraph is the best framework for building stateful, agentic applications!\",\n",
    "        metadata={\"source\": \"tweet\"},\n",
    "    ),\n",
    "    Document(\n",
    "        page_content=\"I have a bad feeling I am going to get deleted :(\",\n",
    "        metadata={\"source\": \"tweet\"},\n",
    "    ),\n",
    "]\n",
    "documents"
   ]
  },
  {
   "cell_type": "code",
   "execution_count": 22,
   "id": "670ae4fd",
   "metadata": {},
   "outputs": [
    {
     "data": {
      "text/plain": [
       "['4b1d5100-01b5-4709-981c-d5b77ff175b5',\n",
       " '1cb018e2-6a72-47b9-90f7-1659cee9147e',\n",
       " '58a5a267-0f28-4509-8a6f-a09f5987f08b',\n",
       " 'eb622f4e-6ea5-4a92-8104-adc7b0ca88b1',\n",
       " 'a033b274-2577-4797-b52a-3cf6aa1eac01',\n",
       " '7eb84b91-4986-4a6d-ba52-fbb25077168a',\n",
       " '03497176-384d-4880-bed1-7dd5270a83ed',\n",
       " '1b0cc45c-10e8-4c03-b6cb-0857d64e9295',\n",
       " 'cfd84c9e-fb47-4e59-9d04-c8355b77861d']"
      ]
     },
     "execution_count": 22,
     "metadata": {},
     "output_type": "execute_result"
    }
   ],
   "source": [
    "pc_vector_store.add_documents(documents)"
   ]
  },
  {
   "cell_type": "code",
   "execution_count": 23,
   "id": "0870d671",
   "metadata": {},
   "outputs": [
    {
     "data": {
      "text/plain": [
       "[Document(id='1cb018e2-6a72-47b9-90f7-1659cee9147e', metadata={'source': 'news'}, page_content='The weather forecast for tomorrow is cloudy and overcast, with a high of 62 degrees.'),\n",
       " Document(id='cfd84c9e-fb47-4e59-9d04-c8355b77861d', metadata={'source': 'tweet'}, page_content='I have a bad feeling I am going to get deleted :('),\n",
       " Document(id='4b1d5100-01b5-4709-981c-d5b77ff175b5', metadata={'source': 'tweet'}, page_content='I had chocolate chip pancakes and scrambled eggs for breakfast this morning.'),\n",
       " Document(id='eb622f4e-6ea5-4a92-8104-adc7b0ca88b1', metadata={'source': 'news'}, page_content='Robbers broke into the city bank and stole $1 million in cash.')]"
      ]
     },
     "execution_count": 23,
     "metadata": {},
     "output_type": "execute_result"
    }
   ],
   "source": [
    "pc_vector_store.similarity_search(\"what's the weather?\")"
   ]
  },
  {
   "cell_type": "code",
   "execution_count": 26,
   "id": "ab70c596",
   "metadata": {},
   "outputs": [
    {
     "data": {
      "text/plain": [
       "[Document(id='03497176-384d-4880-bed1-7dd5270a83ed', metadata={'source': 'website'}, page_content='The top 10 soccer players in the world right now.'),\n",
       " Document(id='7eb84b91-4986-4a6d-ba52-fbb25077168a', metadata={'source': 'website'}, page_content='Is the new iPhone worth the price? Read this review to find out.')]"
      ]
     },
     "execution_count": 26,
     "metadata": {},
     "output_type": "execute_result"
    }
   ],
   "source": [
    "filter = {\"source\": \"website\"}\n",
    "query = \"what's the weather?\"\n",
    "\n",
    "pc_vector_store.similarity_search(query, filter=filter)"
   ]
  },
  {
   "cell_type": "code",
   "execution_count": 29,
   "id": "a75c58a9",
   "metadata": {},
   "outputs": [
    {
     "data": {
      "text/plain": [
       "[Document(id='cfd84c9e-fb47-4e59-9d04-c8355b77861d', metadata={'source': 'tweet'}, page_content='I have a bad feeling I am going to get deleted :(')]"
      ]
     },
     "execution_count": 29,
     "metadata": {},
     "output_type": "execute_result"
    }
   ],
   "source": [
    "filter = {\"source\": {\"$in\": [\"website\", \"tweet\"]}}\n",
    "query = \"what's the weather?\"\n",
    "\n",
    "pc_vector_store.similarity_search(query, filter=filter, k=1)"
   ]
  },
  {
   "cell_type": "code",
   "execution_count": 30,
   "id": "7a55d4a5",
   "metadata": {},
   "outputs": [
    {
     "data": {
      "text/plain": [
       "[(Document(id='1cb018e2-6a72-47b9-90f7-1659cee9147e', metadata={'source': 'news'}, page_content='The weather forecast for tomorrow is cloudy and overcast, with a high of 62 degrees.'),\n",
       "  0.602578163),\n",
       " (Document(id='cfd84c9e-fb47-4e59-9d04-c8355b77861d', metadata={'source': 'tweet'}, page_content='I have a bad feeling I am going to get deleted :('),\n",
       "  0.209217072),\n",
       " (Document(id='4b1d5100-01b5-4709-981c-d5b77ff175b5', metadata={'source': 'tweet'}, page_content='I had chocolate chip pancakes and scrambled eggs for breakfast this morning.'),\n",
       "  0.131456375)]"
      ]
     },
     "execution_count": 30,
     "metadata": {},
     "output_type": "execute_result"
    }
   ],
   "source": [
    "pc_vector_store.similarity_search_with_score(query=\"will it be hot weather tomorrow?\", k=3)"
   ]
  },
  {
   "cell_type": "code",
   "execution_count": 31,
   "id": "5b6823be",
   "metadata": {},
   "outputs": [
    {
     "data": {
      "text/plain": [
       "VectorStoreRetriever(tags=['PineconeVectorStore', 'OpenAIEmbeddings'], vectorstore=<langchain_pinecone.vectorstores.PineconeVectorStore object at 0x0000016574B62590>, search_kwargs={'k': 3})"
      ]
     },
     "execution_count": 31,
     "metadata": {},
     "output_type": "execute_result"
    }
   ],
   "source": [
    "retriever = pc_vector_store.as_retriever(search_kwargs={\"k\": 3})\n",
    "retriever"
   ]
  },
  {
   "cell_type": "code",
   "execution_count": 32,
   "id": "f3e9879b",
   "metadata": {},
   "outputs": [
    {
     "data": {
      "text/plain": [
       "[Document(id='1cb018e2-6a72-47b9-90f7-1659cee9147e', metadata={'source': 'news'}, page_content='The weather forecast for tomorrow is cloudy and overcast, with a high of 62 degrees.'),\n",
       " Document(id='cfd84c9e-fb47-4e59-9d04-c8355b77861d', metadata={'source': 'tweet'}, page_content='I have a bad feeling I am going to get deleted :('),\n",
       " Document(id='4b1d5100-01b5-4709-981c-d5b77ff175b5', metadata={'source': 'tweet'}, page_content='I had chocolate chip pancakes and scrambled eggs for breakfast this morning.')]"
      ]
     },
     "execution_count": 32,
     "metadata": {},
     "output_type": "execute_result"
    }
   ],
   "source": [
    "retriever.invoke(query)"
   ]
  },
  {
   "cell_type": "code",
   "execution_count": 36,
   "id": "3e64e2ea",
   "metadata": {},
   "outputs": [
    {
     "data": {
      "text/plain": [
       "[Document(id='cfd84c9e-fb47-4e59-9d04-c8355b77861d', metadata={'source': 'tweet'}, page_content='I have a bad feeling I am going to get deleted :('),\n",
       " Document(id='4b1d5100-01b5-4709-981c-d5b77ff175b5', metadata={'source': 'tweet'}, page_content='I had chocolate chip pancakes and scrambled eggs for breakfast this morning.'),\n",
       " Document(id='03497176-384d-4880-bed1-7dd5270a83ed', metadata={'source': 'website'}, page_content='The top 10 soccer players in the world right now.')]"
      ]
     },
     "execution_count": 36,
     "metadata": {},
     "output_type": "execute_result"
    }
   ],
   "source": [
    "filter = {\"source\": {\"$in\": [\"website\", \"tweet\"]}}\n",
    "query = \"what's the weather?\"\n",
    "\n",
    "results = pc_vector_store.similarity_search(query, k=3, filter={\"source\": {\"$in\": [\"website\", \"tweet\"]}})\n",
    "results"
   ]
  },
  {
   "cell_type": "code",
   "execution_count": null,
   "id": "f371e306",
   "metadata": {},
   "outputs": [],
   "source": []
  }
 ],
 "metadata": {
  "kernelspec": {
   "display_name": "venv (3.11.7)",
   "language": "python",
   "name": "python3"
  },
  "language_info": {
   "codemirror_mode": {
    "name": "ipython",
    "version": 3
   },
   "file_extension": ".py",
   "mimetype": "text/x-python",
   "name": "python",
   "nbconvert_exporter": "python",
   "pygments_lexer": "ipython3",
   "version": "3.11.7"
  }
 },
 "nbformat": 4,
 "nbformat_minor": 5
}
