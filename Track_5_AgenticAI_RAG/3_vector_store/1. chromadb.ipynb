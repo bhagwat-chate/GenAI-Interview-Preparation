{
 "cells": [
  {
   "cell_type": "markdown",
   "id": "486928bb",
   "metadata": {},
   "source": [
    "### Building a RAG System with LangChain and ChromaDB\n",
    "\n",
    "Introduction\n",
    "\n",
    "Retrieval-Augmented Generation (RAG) is a powerful technique that combines the capabilities of large language models with external knowledge retrieval. This notebook will walk you through building a complete RAG system using:\n",
    "\n",
    "- LangChain: A framework for developing applications powered by language models\n",
    "\n",
    "- ChromaDB: An open-source vector database for storing and retrieving embeddings\n",
    "\n",
    "- OpenAI: For embeddings and language model (you can substitute with other providers)"
   ]
  },
  {
   "cell_type": "code",
   "execution_count": 43,
   "id": "50ae248e",
   "metadata": {},
   "outputs": [],
   "source": [
    "import os\n",
    "from dotenv import load_dotenv\n",
    "from pathlib import Path\n",
    "from langchain_community.document_loaders import DirectoryLoader\n",
    "from langchain_community.document_loaders import TextLoader\n",
    "from langchain_openai import OpenAIEmbeddings\n",
    "from langchain_openai import ChatOpenAI\n",
    "from langchain.text_splitter import RecursiveCharacterTextSplitter\n",
    "from langchain.schema import Document\n",
    "from langchain_community.vectorstores import Chroma\n",
    "from typing import List\n",
    "import warnings\n",
    "warnings.filterwarnings('ignore')\n",
    "\n",
    "load_dotenv()\n",
    "os.environ['OPENAI_API_KEY'] = os.getenv('OPENAI_API_KEY')\n"
   ]
  },
  {
   "cell_type": "markdown",
   "id": "ee19f83c",
   "metadata": {},
   "source": [
    "### 1. sample data"
   ]
  },
  {
   "cell_type": "code",
   "execution_count": 44,
   "id": "3e73880a",
   "metadata": {},
   "outputs": [],
   "source": [
    "sample_docs = [\n",
    "    \"\"\"\n",
    "    Machine Learning Fundamentals\n",
    "\n",
    "    Machine learning is a subset of artificial intelligence that enables\n",
    "    systems to learn and improve from experience without being explicitly\n",
    "    programmed. There are three main types of machine learning: supervised\n",
    "    learning, unsupervised learning, and reinforcement learning. Supervised\n",
    "    learning uses labeled data to train models, while unsupervised learning\n",
    "    finds patterns in unlabeled data. Reinforcement learning learns through\n",
    "    interaction with an environment using rewards and penalties.\n",
    "    \"\"\",\n",
    "\n",
    "    \"\"\"\n",
    "    Deep Learning and Neural Networks\n",
    "\n",
    "    Deep learning is a subset of machine learning based on artificial neural\n",
    "    networks. These networks are inspired by the human brain and consist of\n",
    "    layers of interconnected nodes. Deep learning has revolutionized fields\n",
    "    like computer vision, natural language processing, and speech recognition.\n",
    "    Convolutional Neural Networks (CNNs) are particularly effective for image\n",
    "    processing, while Recurrent Neural Networks (RNNs) and Transformers excel\n",
    "    at sequential data processing.\n",
    "    \"\"\",\n",
    "\n",
    "    \"\"\"\n",
    "    Natural Language Processing (NLP)\n",
    "\n",
    "    NLP is a field of AI that focuses on the interaction between computers and\n",
    "    human language. Key tasks in NLP include text classification, named entity\n",
    "    recognition, sentiment analysis, machine translation, and question answering.\n",
    "    Modern NLP heavily relies on transformer architectures like BERT, GPT, and T5.\n",
    "    These models use attention mechanisms to understand context and relationships\n",
    "    between words in text.\n",
    "    \"\"\"\n",
    "]\n"
   ]
  },
  {
   "cell_type": "markdown",
   "id": "b0068616",
   "metadata": {},
   "source": [
    "save the sample docs in txt file"
   ]
  },
  {
   "cell_type": "code",
   "execution_count": 45,
   "id": "d2aa7b31",
   "metadata": {},
   "outputs": [
    {
     "name": "stdout",
     "output_type": "stream",
     "text": [
      "✅ Sample docs created\n"
     ]
    }
   ],
   "source": [
    "\n",
    "\n",
    "path = Path(\"data\")\n",
    "path.mkdir(parents=True, exist_ok=True)\n",
    "\n",
    "for i, doc in enumerate(sample_docs):\n",
    "    (path / f\"doc_{i}.txt\").write_text(doc, encoding=\"utf-8\")\n",
    "\n",
    "print(\"✅ Sample docs created\")\n"
   ]
  },
  {
   "cell_type": "markdown",
   "id": "c336e005",
   "metadata": {},
   "source": [
    "### 2. document load"
   ]
  },
  {
   "cell_type": "code",
   "execution_count": 46,
   "id": "d3a134bf",
   "metadata": {},
   "outputs": [
    {
     "data": {
      "text/plain": [
       "[Document(metadata={'source': 'data\\\\doc_0.txt'}, page_content='\\n    Machine Learning Fundamentals\\n\\n    Machine learning is a subset of artificial intelligence that enables\\n    systems to learn and improve from experience without being explicitly\\n    programmed. There are three main types of machine learning: supervised\\n    learning, unsupervised learning, and reinforcement learning. Supervised\\n    learning uses labeled data to train models, while unsupervised learning\\n    finds patterns in unlabeled data. Reinforcement learning learns through\\n    interaction with an environment using rewards and penalties.\\n    '),\n",
       " Document(metadata={'source': 'data\\\\doc_1.txt'}, page_content='\\n    Deep Learning and Neural Networks\\n\\n    Deep learning is a subset of machine learning based on artificial neural\\n    networks. These networks are inspired by the human brain and consist of\\n    layers of interconnected nodes. Deep learning has revolutionized fields\\n    like computer vision, natural language processing, and speech recognition.\\n    Convolutional Neural Networks (CNNs) are particularly effective for image\\n    processing, while Recurrent Neural Networks (RNNs) and Transformers excel\\n    at sequential data processing.\\n    '),\n",
       " Document(metadata={'source': 'data\\\\doc_2.txt'}, page_content='\\n    Natural Language Processing (NLP)\\n\\n    NLP is a field of AI that focuses on the interaction between computers and\\n    human language. Key tasks in NLP include text classification, named entity\\n    recognition, sentiment analysis, machine translation, and question answering.\\n    Modern NLP heavily relies on transformer architectures like BERT, GPT, and T5.\\n    These models use attention mechanisms to understand context and relationships\\n    between words in text.\\n    ')]"
      ]
     },
     "execution_count": 46,
     "metadata": {},
     "output_type": "execute_result"
    }
   ],
   "source": [
    "loader = DirectoryLoader(\n",
    "    path,\n",
    "    glob='*.txt',\n",
    "    loader_cls=TextLoader,\n",
    "    loader_kwargs={'encoding': 'utf-8'}\n",
    ")\n",
    "\n",
    "docs = loader.load()\n",
    "docs"
   ]
  },
  {
   "cell_type": "markdown",
   "id": "b4a69c73",
   "metadata": {},
   "source": [
    "### 3. Splitting docs"
   ]
  },
  {
   "cell_type": "code",
   "execution_count": 47,
   "id": "b00bd88b",
   "metadata": {},
   "outputs": [
    {
     "name": "stdout",
     "output_type": "stream",
     "text": [
      "total docs after split: 9\n",
      "\n"
     ]
    },
    {
     "data": {
      "text/plain": [
       "[Document(metadata={'source': 'data\\\\doc_0.txt'}, page_content='Machine Learning Fundamentals'),\n",
       " Document(metadata={'source': 'data\\\\doc_0.txt'}, page_content='Machine learning is a subset of artificial intelligence that enables\\n    systems to learn and improve from experience without being explicitly\\n    programmed. There are three main types of machine learning: supervised\\n    learning, unsupervised learning, and reinforcement learning. Supervised'),\n",
       " Document(metadata={'source': 'data\\\\doc_0.txt'}, page_content='learning uses labeled data to train models, while unsupervised learning\\n    finds patterns in unlabeled data. Reinforcement learning learns through\\n    interaction with an environment using rewards and penalties.'),\n",
       " Document(metadata={'source': 'data\\\\doc_1.txt'}, page_content='Deep Learning and Neural Networks'),\n",
       " Document(metadata={'source': 'data\\\\doc_1.txt'}, page_content='Deep learning is a subset of machine learning based on artificial neural\\n    networks. These networks are inspired by the human brain and consist of\\n    layers of interconnected nodes. Deep learning has revolutionized fields'),\n",
       " Document(metadata={'source': 'data\\\\doc_1.txt'}, page_content='like computer vision, natural language processing, and speech recognition.\\n    Convolutional Neural Networks (CNNs) are particularly effective for image\\n    processing, while Recurrent Neural Networks (RNNs) and Transformers excel\\n    at sequential data processing.'),\n",
       " Document(metadata={'source': 'data\\\\doc_2.txt'}, page_content='Natural Language Processing (NLP)'),\n",
       " Document(metadata={'source': 'data\\\\doc_2.txt'}, page_content='NLP is a field of AI that focuses on the interaction between computers and\\n    human language. Key tasks in NLP include text classification, named entity\\n    recognition, sentiment analysis, machine translation, and question answering.'),\n",
       " Document(metadata={'source': 'data\\\\doc_2.txt'}, page_content='Modern NLP heavily relies on transformer architectures like BERT, GPT, and T5.\\n    These models use attention mechanisms to understand context and relationships\\n    between words in text.')]"
      ]
     },
     "execution_count": 47,
     "metadata": {},
     "output_type": "execute_result"
    }
   ],
   "source": [
    "text_splitter = RecursiveCharacterTextSplitter(\n",
    "    chunk_size=300,\n",
    "    chunk_overlap=30,\n",
    "    length_function=len,\n",
    "    separators=['\\n\\n', '\\n', '. ', '']\n",
    ")\n",
    "\n",
    "splitted_docs = text_splitter.split_documents(docs)\n",
    "\n",
    "print(f\"total docs after split: {len(splitted_docs)}\\n\")\n",
    "splitted_docs\n",
    "# for i, v in enumerate(splitted_docs):\n",
    "#     print(f\"chunk {i}\\n {splitted_docs[i].page_content}\\n\")"
   ]
  },
  {
   "cell_type": "markdown",
   "id": "373df741",
   "metadata": {},
   "source": [
    "### 4. Create Embedding and store in Vector store ChromaDB"
   ]
  },
  {
   "cell_type": "code",
   "execution_count": 48,
   "id": "def854b1",
   "metadata": {},
   "outputs": [
    {
     "name": "stdout",
     "output_type": "stream",
     "text": [
      "vector store created with '18' vectors\n",
      "location: ./chroma_db\n"
     ]
    }
   ],
   "source": [
    "persist_directory = \"./chroma_db\"\n",
    "\n",
    "vector_store = Chroma.from_documents(\n",
    "    documents=splitted_docs,\n",
    "    embedding=OpenAIEmbeddings(),\n",
    "    persist_directory=persist_directory,\n",
    "    collection_name='rag_collection'\n",
    ")\n",
    "\n",
    "print(f\"vector store created with '{vector_store._collection.count()}' vectors\")\n",
    "print(f'location: {persist_directory}')"
   ]
  },
  {
   "cell_type": "markdown",
   "id": "2fbc0251",
   "metadata": {},
   "source": [
    "### 5. Test Similarity Search"
   ]
  },
  {
   "cell_type": "code",
   "execution_count": 49,
   "id": "89c526c2",
   "metadata": {},
   "outputs": [
    {
     "data": {
      "text/plain": [
       "[Document(metadata={'source': 'data\\\\doc_0.txt'}, page_content='Machine learning is a subset of artificial intelligence that enables\\n    systems to learn and improve from experience without being explicitly\\n    programmed. There are three main types of machine learning: supervised\\n    learning, unsupervised learning, and reinforcement learning. Supervised'),\n",
       " Document(metadata={'source': 'data\\\\doc_0.txt'}, page_content='Machine learning is a subset of artificial intelligence that enables\\n    systems to learn and improve from experience without being explicitly\\n    programmed. There are three main types of machine learning: supervised\\n    learning, unsupervised learning, and reinforcement learning. Supervised'),\n",
       " Document(metadata={'source': 'data\\\\doc_0.txt'}, page_content='Machine Learning Fundamentals')]"
      ]
     },
     "execution_count": 49,
     "metadata": {},
     "output_type": "execute_result"
    }
   ],
   "source": [
    "query = \"what are the types of machine learning\"\n",
    "\n",
    "similar_docs = vector_store.similarity_search(query, k=3)\n",
    "similar_docs"
   ]
  },
  {
   "cell_type": "code",
   "execution_count": 50,
   "id": "6ae0a0e2",
   "metadata": {},
   "outputs": [
    {
     "data": {
      "text/plain": [
       "[Document(metadata={'source': 'data\\\\doc_2.txt'}, page_content='Natural Language Processing (NLP)'),\n",
       " Document(metadata={'source': 'data\\\\doc_2.txt'}, page_content='Natural Language Processing (NLP)'),\n",
       " Document(metadata={'source': 'data\\\\doc_2.txt'}, page_content='NLP is a field of AI that focuses on the interaction between computers and\\n    human language. Key tasks in NLP include text classification, named entity\\n    recognition, sentiment analysis, machine translation, and question answering.'),\n",
       " Document(metadata={'source': 'data\\\\doc_2.txt'}, page_content='NLP is a field of AI that focuses on the interaction between computers and\\n    human language. Key tasks in NLP include text classification, named entity\\n    recognition, sentiment analysis, machine translation, and question answering.'),\n",
       " Document(metadata={'source': 'data\\\\doc_1.txt'}, page_content='Deep Learning and Neural Networks')]"
      ]
     },
     "execution_count": 50,
     "metadata": {},
     "output_type": "execute_result"
    }
   ],
   "source": [
    "query = \"what is NLP?\"\n",
    "similar_docs = vector_store.similarity_search(query, k=5)\n",
    "similar_docs"
   ]
  },
  {
   "cell_type": "code",
   "execution_count": 51,
   "id": "4cbada94",
   "metadata": {},
   "outputs": [
    {
     "data": {
      "text/plain": [
       "[Document(metadata={'source': 'data\\\\doc_1.txt'}, page_content='Deep Learning and Neural Networks'),\n",
       " Document(metadata={'source': 'data\\\\doc_1.txt'}, page_content='Deep Learning and Neural Networks'),\n",
       " Document(metadata={'source': 'data\\\\doc_1.txt'}, page_content='Deep learning is a subset of machine learning based on artificial neural\\n    networks. These networks are inspired by the human brain and consist of\\n    layers of interconnected nodes. Deep learning has revolutionized fields')]"
      ]
     },
     "execution_count": 51,
     "metadata": {},
     "output_type": "execute_result"
    }
   ],
   "source": [
    "query = 'what is deep learning?'\n",
    "similar_docs = vector_store.similarity_search(query, k=3)\n",
    "similar_docs"
   ]
  },
  {
   "cell_type": "markdown",
   "id": "ea191f37",
   "metadata": {},
   "source": [
    "#### Advanced Similarity Search with Scores"
   ]
  },
  {
   "cell_type": "code",
   "execution_count": 52,
   "id": "8121b32f",
   "metadata": {},
   "outputs": [
    {
     "data": {
      "text/plain": [
       "[(Document(metadata={'source': 'data\\\\doc_1.txt'}, page_content='Deep Learning and Neural Networks'),\n",
       "  0.2128422111272812),\n",
       " (Document(metadata={'source': 'data\\\\doc_1.txt'}, page_content='Deep Learning and Neural Networks'),\n",
       "  0.21299368143081665),\n",
       " (Document(metadata={'source': 'data\\\\doc_1.txt'}, page_content='Deep learning is a subset of machine learning based on artificial neural\\n    networks. These networks are inspired by the human brain and consist of\\n    layers of interconnected nodes. Deep learning has revolutionized fields'),\n",
       "  0.22426888346672058)]"
      ]
     },
     "execution_count": 52,
     "metadata": {},
     "output_type": "execute_result"
    }
   ],
   "source": [
    "vector_store.similarity_search_with_score(query, k=3)"
   ]
  },
  {
   "cell_type": "markdown",
   "id": "0dc247a1",
   "metadata": {},
   "source": [
    "### Understanding Similarity Scores\n",
    "The similarity score represents how closely related a document chunk is to your query. \n",
    "The scoring depends on the distance metric used:\n",
    "\n",
    "**ChromaDB default: Uses L2 distance (Euclidean distance)**\n",
    "- Lower scores = MORE similar (closer in vector space)  \n",
    "- Score of 0 = identical vectors  \n",
    "- Typical range: 0 to 2 (but can be higher)  \n",
    "\n",
    "**Cosine similarity (if configured):**\n",
    "- Higher scores = MORE similar  \n",
    "- Range: -1 to 1 (1 being identical)  \n"
   ]
  },
  {
   "cell_type": "markdown",
   "id": "0bc28d5c",
   "metadata": {},
   "source": [
    "### 6. Initialize LLM, RAG Chain, Prompt Template"
   ]
  },
  {
   "cell_type": "code",
   "execution_count": 53,
   "id": "fa0b9608",
   "metadata": {},
   "outputs": [
    {
     "data": {
      "text/plain": [
       "\"LLM can refer to a couple of different things depending on the context:\\n\\n1. **Master of Laws (LL.M.)**: This is a postgraduate academic degree in law. It is typically pursued by individuals who already hold a primary law degree (such as a Juris Doctor (JD) in the United States or a Bachelor of Laws (LLB) in other countries) and seek to gain specialized knowledge in a particular area of law, such as international law, human rights, tax law, or intellectual property.\\n\\n2. **Large Language Model**: In the context of artificial intelligence and machine learning, LLM stands for Large Language Model. These are advanced AI models trained to understand, generate, and manipulate human language on a large scale. Examples of large language models include OpenAI's GPT (Generative Pre-trained Transformer) series, such as GPT-3 and GPT-4. They are used in various applications, including chatbots, automated writing, language translation, and more.\\n\\nThe specific meaning of LLM will depend on the context in which it is used.\""
      ]
     },
     "execution_count": 53,
     "metadata": {},
     "output_type": "execute_result"
    }
   ],
   "source": [
    "llm = ChatOpenAI(\n",
    "    model='gpt-4o',\n",
    ")\n",
    "\n",
    "llm.predict(\"What is LLM?\")\n"
   ]
  },
  {
   "cell_type": "markdown",
   "id": "84d942ed",
   "metadata": {},
   "source": [
    "### Modern RAG Chain"
   ]
  },
  {
   "cell_type": "code",
   "execution_count": 54,
   "id": "9c5b5bd8",
   "metadata": {},
   "outputs": [
    {
     "data": {
      "text/plain": [
       "VectorStoreRetriever(tags=['Chroma', 'OpenAIEmbeddings'], vectorstore=<langchain_community.vectorstores.chroma.Chroma object at 0x0000019251C1EB90>, search_kwargs={})"
      ]
     },
     "execution_count": 54,
     "metadata": {},
     "output_type": "execute_result"
    }
   ],
   "source": [
    "from langchain.chains import create_retrieval_chain\n",
    "from langchain_core.prompts import ChatPromptTemplate\n",
    "from langchain.chains.combine_documents import create_stuff_documents_chain\n",
    "\n",
    "# create retriver\n",
    "retriever = vector_store.as_retriever(search_kwarg={\"k\": 3})\n",
    "\n",
    "retriever"
   ]
  },
  {
   "cell_type": "code",
   "execution_count": 55,
   "id": "73ea990e",
   "metadata": {},
   "outputs": [],
   "source": [
    "## Create a prompt template\n",
    "system_prompt = \"\"\"You are an assistant for question-answering tasks.\n",
    "Use the following pieces of retrieved context to answer the question.\n",
    "If you don't know the answer, just say that you don't know.\n",
    "Use three sentences maximum and keep the answer concise.\n",
    "\n",
    "Context: {context}\"\"\"\n",
    "\n",
    "prompt = ChatPromptTemplate.from_messages([\n",
    "    ('system', system_prompt),\n",
    "    ('human', \"{input}\")\n",
    "])"
   ]
  },
  {
   "cell_type": "code",
   "execution_count": 56,
   "id": "707b79cc",
   "metadata": {},
   "outputs": [
    {
     "data": {
      "text/plain": [
       "ChatPromptTemplate(input_variables=['context', 'input'], input_types={}, partial_variables={}, messages=[SystemMessagePromptTemplate(prompt=PromptTemplate(input_variables=['context'], input_types={}, partial_variables={}, template=\"You are an assistant for question-answering tasks.\\nUse the following pieces of retrieved context to answer the question.\\nIf you don't know the answer, just say that you don't know.\\nUse three sentences maximum and keep the answer concise.\\n\\nContext: {context}\"), additional_kwargs={}), HumanMessagePromptTemplate(prompt=PromptTemplate(input_variables=['input'], input_types={}, partial_variables={}, template='{input}'), additional_kwargs={})])"
      ]
     },
     "execution_count": 56,
     "metadata": {},
     "output_type": "execute_result"
    }
   ],
   "source": [
    "prompt"
   ]
  },
  {
   "cell_type": "code",
   "execution_count": 57,
   "id": "ef7a5ed9",
   "metadata": {},
   "outputs": [
    {
     "data": {
      "text/plain": [
       "RunnableBinding(bound=RunnableBinding(bound=RunnableAssign(mapper={\n",
       "  context: RunnableLambda(format_docs)\n",
       "}), kwargs={}, config={'run_name': 'format_inputs'}, config_factories=[])\n",
       "| ChatPromptTemplate(input_variables=['context', 'input'], input_types={}, partial_variables={}, messages=[SystemMessagePromptTemplate(prompt=PromptTemplate(input_variables=['context'], input_types={}, partial_variables={}, template=\"You are an assistant for question-answering tasks.\\nUse the following pieces of retrieved context to answer the question.\\nIf you don't know the answer, just say that you don't know.\\nUse three sentences maximum and keep the answer concise.\\n\\nContext: {context}\"), additional_kwargs={}), HumanMessagePromptTemplate(prompt=PromptTemplate(input_variables=['input'], input_types={}, partial_variables={}, template='{input}'), additional_kwargs={})])\n",
       "| ChatOpenAI(client=<openai.resources.chat.completions.completions.Completions object at 0x0000019251C7D890>, async_client=<openai.resources.chat.completions.completions.AsyncCompletions object at 0x0000019251C6B190>, root_client=<openai.OpenAI object at 0x00000192510BB910>, root_async_client=<openai.AsyncOpenAI object at 0x0000019251C7DB90>, model_name='gpt-4o', model_kwargs={}, openai_api_key=SecretStr('**********'))\n",
       "| StrOutputParser(), kwargs={}, config={'run_name': 'stuff_documents_chain'}, config_factories=[])"
      ]
     },
     "execution_count": 57,
     "metadata": {},
     "output_type": "execute_result"
    }
   ],
   "source": [
    "document_chain = create_stuff_documents_chain(llm=llm, prompt=prompt)\n",
    "document_chain"
   ]
  },
  {
   "cell_type": "markdown",
   "id": "3d68eb5e",
   "metadata": {},
   "source": [
    "This chain:\n",
    "- Takes retrieved documents\n",
    "- \"Stuffs\" them into the prompt's {context} placeholder\n",
    "- Sends the complete prompt to the LLM\n",
    "- Returns the LLM's response\n"
   ]
  },
  {
   "cell_type": "code",
   "execution_count": 58,
   "id": "b5d3e77d",
   "metadata": {},
   "outputs": [
    {
     "data": {
      "text/plain": [
       "RunnableBinding(bound=RunnableAssign(mapper={\n",
       "  context: RunnableBinding(bound=RunnableLambda(lambda x: x['input'])\n",
       "           | VectorStoreRetriever(tags=['Chroma', 'OpenAIEmbeddings'], vectorstore=<langchain_community.vectorstores.chroma.Chroma object at 0x0000019251C1EB90>, search_kwargs={}), kwargs={}, config={'run_name': 'retrieve_documents'}, config_factories=[])\n",
       "})\n",
       "| RunnableAssign(mapper={\n",
       "    answer: RunnableBinding(bound=RunnableBinding(bound=RunnableAssign(mapper={\n",
       "              context: RunnableLambda(format_docs)\n",
       "            }), kwargs={}, config={'run_name': 'format_inputs'}, config_factories=[])\n",
       "            | ChatPromptTemplate(input_variables=['context', 'input'], input_types={}, partial_variables={}, messages=[SystemMessagePromptTemplate(prompt=PromptTemplate(input_variables=['context'], input_types={}, partial_variables={}, template=\"You are an assistant for question-answering tasks.\\nUse the following pieces of retrieved context to answer the question.\\nIf you don't know the answer, just say that you don't know.\\nUse three sentences maximum and keep the answer concise.\\n\\nContext: {context}\"), additional_kwargs={}), HumanMessagePromptTemplate(prompt=PromptTemplate(input_variables=['input'], input_types={}, partial_variables={}, template='{input}'), additional_kwargs={})])\n",
       "            | ChatOpenAI(client=<openai.resources.chat.completions.completions.Completions object at 0x0000019251C7D890>, async_client=<openai.resources.chat.completions.completions.AsyncCompletions object at 0x0000019251C6B190>, root_client=<openai.OpenAI object at 0x00000192510BB910>, root_async_client=<openai.AsyncOpenAI object at 0x0000019251C7DB90>, model_name='gpt-4o', model_kwargs={}, openai_api_key=SecretStr('**********'))\n",
       "            | StrOutputParser(), kwargs={}, config={'run_name': 'stuff_documents_chain'}, config_factories=[])\n",
       "  }), kwargs={}, config={'run_name': 'retrieval_chain'}, config_factories=[])"
      ]
     },
     "execution_count": 58,
     "metadata": {},
     "output_type": "execute_result"
    }
   ],
   "source": [
    "rag_chain = create_retrieval_chain(retriever, document_chain)\n",
    "rag_chain"
   ]
  },
  {
   "cell_type": "code",
   "execution_count": 59,
   "id": "386fd9a9",
   "metadata": {},
   "outputs": [],
   "source": [
    "query = \"what is artificial intelligence?\"\n",
    "\n",
    "result = rag_chain.invoke({\"input\": query})"
   ]
  },
  {
   "cell_type": "code",
   "execution_count": 60,
   "id": "1471cc19",
   "metadata": {},
   "outputs": [
    {
     "name": "stdout",
     "output_type": "stream",
     "text": [
      "Artificial intelligence (AI) is a branch of computer science that focuses on creating systems capable of performing tasks that typically require human intelligence, such as understanding language, recognizing patterns, solving problems, and making decisions. AI encompasses various subfields, including machine learning, natural language processing, and robotics. Its goal is to enable machines to mimic human-like cognitive functions.\n"
     ]
    }
   ],
   "source": [
    "print(result['answer'])"
   ]
  },
  {
   "cell_type": "code",
   "execution_count": null,
   "id": "c0be22d6",
   "metadata": {},
   "outputs": [],
   "source": []
  }
 ],
 "metadata": {
  "kernelspec": {
   "display_name": "venv",
   "language": "python",
   "name": "python3"
  },
  "language_info": {
   "codemirror_mode": {
    "name": "ipython",
    "version": 3
   },
   "file_extension": ".py",
   "mimetype": "text/x-python",
   "name": "python",
   "nbconvert_exporter": "python",
   "pygments_lexer": "ipython3",
   "version": "3.11.13"
  }
 },
 "nbformat": 4,
 "nbformat_minor": 5
}
