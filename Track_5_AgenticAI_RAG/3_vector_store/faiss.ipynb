{
 "cells": [
  {
   "cell_type": "code",
   "execution_count": 1,
   "id": "e255dc59",
   "metadata": {},
   "outputs": [],
   "source": [
    "import os\n",
    "\n",
    "import warnings\n",
    "warnings.filterwarnings('ignore')\n",
    "\n",
    "from langchain_core.documents import Document\n",
    "from langchain_core.prompts import ChatPromptTemplate, PromptTemplate\n",
    "from langchain_core.runnables import RunnablePassthrough, RunnableParallel\n",
    "from langchain_core.output_parsers import StrOutputParser\n",
    "from langchain_core.messages import AIMessage, HumanMessage\n",
    "\n",
    "from langchain.text_splitter import RecursiveCharacterTextSplitter, TextSplitter\n",
    "from langchain_openai import ChatOpenAI, OpenAIEmbeddings\n",
    "from langchain_community.vectorstores import FAISS\n",
    "from langchain_community.document_loaders import TextLoader, PyMuPDFLoader, PyPDFLoader\n",
    "from langchain.chains import create_retrieval_chain\n",
    "from langchain.chains.combine_documents import create_stuff_documents_chain\n",
    "from dotenv import load_dotenv\n",
    "\n",
    "load_dotenv()\n",
    "\n",
    "os.environ['OPENAI_API_KEY'] = os.getenv('OPENAI_API_KEY')\n"
   ]
  },
  {
   "cell_type": "markdown",
   "id": "087f83e0",
   "metadata": {},
   "source": [
    "### 1. Data Ingestion"
   ]
  },
  {
   "cell_type": "code",
   "execution_count": 28,
   "id": "30a7e056",
   "metadata": {},
   "outputs": [
    {
     "data": {
      "text/plain": [
       "[Document(metadata={'source': 'AI Introduction', 'page': 1, 'topic': 'AI'}, page_content='\\n        Artificial Intelligence (AI) is the simulation of human intelligence in machines.\\n        These systems are designed to think like humans and mimic their actions.\\n        AI can be categorized into narrow AI and general AI.\\n        '),\n",
       " Document(metadata={'source': 'ML Basics', 'page': 1, 'topic': 'ML'}, page_content='\\n        Machine Learning is a subset of AI that enables systems to learn from data.\\n        Instead of being explicitly programmed, ML algorithms find patterns in data.\\n        Common types include supervised, unsupervised, and reinforcement learning.\\n        '),\n",
       " Document(metadata={'source': 'Deep Learning', 'page': 1, 'topic': 'DL'}, page_content='\\n        Deep Learning is a subset of machine learning based on artificial neural networks.\\n        It uses multiple layers to progressively extract higher-level features from raw input.\\n        Deep learning has revolutionized computer vision, NLP, and speech recognition.\\n        '),\n",
       " Document(metadata={'source': 'NLP Overview', 'page': 1, 'topic': 'NLP'}, page_content='\\n        Natural Language Processing (NLP) is a branch of AI that helps computers understand human language.\\n        It combines computational linguistics with machine learning and deep learning models.\\n        Applications include chatbots, translation, sentiment analysis, and text summarization.\\n        ')]"
      ]
     },
     "execution_count": 28,
     "metadata": {},
     "output_type": "execute_result"
    }
   ],
   "source": [
    "sample_documents = [\n",
    "    Document(\n",
    "        page_content=\"\"\"\n",
    "        Artificial Intelligence (AI) is the simulation of human intelligence in machines.\n",
    "        These systems are designed to think like humans and mimic their actions.\n",
    "        AI can be categorized into narrow AI and general AI.\n",
    "        \"\"\",\n",
    "        metadata={\"source\": \"AI Introduction\", \"page\": 1, \"topic\": \"AI\"},\n",
    "    ),\n",
    "    Document(\n",
    "        page_content=\"\"\"\n",
    "        Machine Learning is a subset of AI that enables systems to learn from data.\n",
    "        Instead of being explicitly programmed, ML algorithms find patterns in data.\n",
    "        Common types include supervised, unsupervised, and reinforcement learning.\n",
    "        \"\"\",\n",
    "        metadata={\"source\": \"ML Basics\", \"page\": 1, \"topic\": \"ML\"},\n",
    "    ),\n",
    "    Document(\n",
    "        page_content=\"\"\"\n",
    "        Deep Learning is a subset of machine learning based on artificial neural networks.\n",
    "        It uses multiple layers to progressively extract higher-level features from raw input.\n",
    "        Deep learning has revolutionized computer vision, NLP, and speech recognition.\n",
    "        \"\"\",\n",
    "        metadata={\"source\": \"Deep Learning\", \"page\": 1, \"topic\": \"DL\"},\n",
    "    ),\n",
    "    Document(\n",
    "        page_content=\"\"\"\n",
    "        Natural Language Processing (NLP) is a branch of AI that helps computers understand human language.\n",
    "        It combines computational linguistics with machine learning and deep learning models.\n",
    "        Applications include chatbots, translation, sentiment analysis, and text summarization.\n",
    "        \"\"\",\n",
    "        metadata={\"source\": \"NLP Overview\", \"page\": 1, \"topic\": \"NLP\"},\n",
    "    ),\n",
    "]\n",
    "\n",
    "sample_documents"
   ]
  },
  {
   "cell_type": "code",
   "execution_count": 3,
   "id": "efc9e6f6",
   "metadata": {},
   "outputs": [],
   "source": [
    "text_splitter = RecursiveCharacterTextSplitter(\n",
    "    chunk_size=500,\n",
    "    chunk_overlap=50,\n",
    "    length_function=len,\n",
    "    separators=[\" \"]\n",
    ")\n",
    "\n",
    "chunks = text_splitter.split_documents(sample_documents)"
   ]
  },
  {
   "cell_type": "code",
   "execution_count": 4,
   "id": "4948a633",
   "metadata": {},
   "outputs": [
    {
     "data": {
      "text/plain": [
       "[Document(metadata={'source': 'AI Introduction', 'page': 1, 'topic': 'AI'}, page_content='Artificial Intelligence (AI) is the simulation of human intelligence in machines.\\n        These systems are designed to think like humans and mimic their actions.\\n        AI can be categorized into narrow AI and general AI.'),\n",
       " Document(metadata={'source': 'ML Basics', 'page': 1, 'topic': 'ML'}, page_content='Machine Learning is a subset of AI that enables systems to learn from data.\\n        Instead of being explicitly programmed, ML algorithms find patterns in data.\\n        Common types include supervised, unsupervised, and reinforcement learning.'),\n",
       " Document(metadata={'source': 'Deep Learning', 'page': 1, 'topic': 'DL'}, page_content='Deep Learning is a subset of machine learning based on artificial neural networks.\\n        It uses multiple layers to progressively extract higher-level features from raw input.\\n        Deep learning has revolutionized computer vision, NLP, and speech recognition.'),\n",
       " Document(metadata={'source': 'NLP Overview', 'page': 1, 'topic': 'NLP'}, page_content='Natural Language Processing (NLP) is a branch of AI that helps computers understand human language.\\n        It combines computational linguistics with machine learning and deep learning models.\\n        Applications include chatbots, translation, sentiment analysis, and text summarization.')]"
      ]
     },
     "execution_count": 4,
     "metadata": {},
     "output_type": "execute_result"
    }
   ],
   "source": [
    "chunks"
   ]
  },
  {
   "cell_type": "markdown",
   "id": "deb0ca0f",
   "metadata": {},
   "source": [
    "### 2. Load the embedding model"
   ]
  },
  {
   "cell_type": "code",
   "execution_count": 5,
   "id": "1b6de323",
   "metadata": {},
   "outputs": [
    {
     "data": {
      "text/plain": [
       "1536"
      ]
     },
     "execution_count": 5,
     "metadata": {},
     "output_type": "execute_result"
    }
   ],
   "source": [
    "embedding = OpenAIEmbeddings(model='text-embedding-3-large', dimensions=1536)\n",
    "\n",
    "sample_text = \"What is machin elearning\"\n",
    "sample_embedding = embedding.embed_query(sample_text)\n",
    "len(sample_embedding)"
   ]
  },
  {
   "cell_type": "code",
   "execution_count": 6,
   "id": "e999212c",
   "metadata": {},
   "outputs": [
    {
     "data": {
      "text/plain": [
       "4"
      ]
     },
     "execution_count": 6,
     "metadata": {},
     "output_type": "execute_result"
    }
   ],
   "source": [
    "texts = [\"AI\", \"ML\", 'DL', 'NN']\n",
    "\n",
    "batch_embeddings = embedding.embed_documents(texts)\n",
    "len(batch_embeddings)"
   ]
  },
  {
   "cell_type": "markdown",
   "id": "ab178514",
   "metadata": {},
   "source": [
    "### Compare embeddings woth cosine similarity"
   ]
  },
  {
   "cell_type": "code",
   "execution_count": 7,
   "id": "e0009350",
   "metadata": {},
   "outputs": [],
   "source": [
    "import numpy as np\n",
    "\n",
    "def compare_embeddings(text1: str, text2: str):\n",
    "    emb1 = np.array(embedding.embed_query(text1))\n",
    "    emb2 = np.array(embedding.embed_query(text2))\n",
    "\n",
    "    similarity = np.dot(emb1, emb2) / (np.linalg.norm(emb1) * np.linalg.norm(emb2))\n",
    "\n",
    "    return similarity"
   ]
  },
  {
   "cell_type": "code",
   "execution_count": 8,
   "id": "01d94c48",
   "metadata": {},
   "outputs": [
    {
     "data": {
      "text/plain": [
       "np.float64(0.5854221448239765)"
      ]
     },
     "execution_count": 8,
     "metadata": {},
     "output_type": "execute_result"
    }
   ],
   "source": [
    "compare_embeddings(\"INDIA\", \"CHINA\")"
   ]
  },
  {
   "cell_type": "code",
   "execution_count": 9,
   "id": "8d69ca72",
   "metadata": {},
   "outputs": [
    {
     "data": {
      "text/plain": [
       "np.float64(0.4195690088445148)"
      ]
     },
     "execution_count": 9,
     "metadata": {},
     "output_type": "execute_result"
    }
   ],
   "source": [
    "compare_embeddings(\"INDIA\", \"KENIA\")"
   ]
  },
  {
   "cell_type": "code",
   "execution_count": 10,
   "id": "394c959d",
   "metadata": {},
   "outputs": [
    {
     "data": {
      "text/plain": [
       "np.float64(0.5379085787893086)"
      ]
     },
     "execution_count": 10,
     "metadata": {},
     "output_type": "execute_result"
    }
   ],
   "source": [
    "compare_embeddings(\"ML\", \"DL\")"
   ]
  },
  {
   "cell_type": "markdown",
   "id": "9ca73e75",
   "metadata": {},
   "source": [
    "### Create FAISS Vector Store"
   ]
  },
  {
   "cell_type": "code",
   "execution_count": 11,
   "id": "039ebd72",
   "metadata": {},
   "outputs": [
    {
     "name": "stdout",
     "output_type": "stream",
     "text": [
      "vector store created with 4 vectors\n"
     ]
    }
   ],
   "source": [
    "vector_store = FAISS.from_documents(\n",
    "    documents=chunks,\n",
    "    embedding=embedding\n",
    ")\n",
    "\n",
    "print(f\"vector store created with {vector_store.index.ntotal} vectors\")"
   ]
  },
  {
   "cell_type": "markdown",
   "id": "66ea7c07",
   "metadata": {},
   "source": [
    "### Save the vectors in FAISS"
   ]
  },
  {
   "cell_type": "code",
   "execution_count": 12,
   "id": "7809d05d",
   "metadata": {},
   "outputs": [
    {
     "name": "stdout",
     "output_type": "stream",
     "text": [
      "vectore store saved at 'FAISS_index'\n"
     ]
    }
   ],
   "source": [
    "vector_store.save_local(folder_path=\"FAISS_index\")\n",
    "print(\"vectore store saved at 'FAISS_index'\")"
   ]
  },
  {
   "cell_type": "code",
   "execution_count": 13,
   "id": "e39042ac",
   "metadata": {},
   "outputs": [],
   "source": [
    "loaded_vector_store = FAISS.load_local(folder_path=\"FAISS_index\", \n",
    "                                       embeddings=embedding, \n",
    "                                       allow_dangerous_deserialization=True)"
   ]
  },
  {
   "cell_type": "code",
   "execution_count": 14,
   "id": "047fc1a9",
   "metadata": {},
   "outputs": [
    {
     "data": {
      "text/plain": [
       "[Document(id='9fb1b03e-4e91-4a84-9d8f-6e2692141fac', metadata={'source': 'Deep Learning', 'page': 1, 'topic': 'DL'}, page_content='Deep Learning is a subset of machine learning based on artificial neural networks.\\n        It uses multiple layers to progressively extract higher-level features from raw input.\\n        Deep learning has revolutionized computer vision, NLP, and speech recognition.'),\n",
       " Document(id='a0ea7af0-18b2-4336-847d-1887a8bca18d', metadata={'source': 'ML Basics', 'page': 1, 'topic': 'ML'}, page_content='Machine Learning is a subset of AI that enables systems to learn from data.\\n        Instead of being explicitly programmed, ML algorithms find patterns in data.\\n        Common types include supervised, unsupervised, and reinforcement learning.'),\n",
       " Document(id='67018fdd-7c4e-4fa5-9ba5-23e607326947', metadata={'source': 'NLP Overview', 'page': 1, 'topic': 'NLP'}, page_content='Natural Language Processing (NLP) is a branch of AI that helps computers understand human language.\\n        It combines computational linguistics with machine learning and deep learning models.\\n        Applications include chatbots, translation, sentiment analysis, and text summarization.'),\n",
       " Document(id='545c02ba-8003-4d27-9efe-1cefb8e8cda5', metadata={'source': 'AI Introduction', 'page': 1, 'topic': 'AI'}, page_content='Artificial Intelligence (AI) is the simulation of human intelligence in machines.\\n        These systems are designed to think like humans and mimic their actions.\\n        AI can be categorized into narrow AI and general AI.')]"
      ]
     },
     "execution_count": 14,
     "metadata": {},
     "output_type": "execute_result"
    }
   ],
   "source": [
    "# let's perform similarity search\n",
    "\n",
    "loaded_vector_store.similarity_search(\"what is deep learning\")"
   ]
  },
  {
   "cell_type": "code",
   "execution_count": 15,
   "id": "025ac27a",
   "metadata": {},
   "outputs": [
    {
     "data": {
      "text/plain": [
       "[(Document(id='9fb1b03e-4e91-4a84-9d8f-6e2692141fac', metadata={'source': 'Deep Learning', 'page': 1, 'topic': 'DL'}, page_content='Deep Learning is a subset of machine learning based on artificial neural networks.\\n        It uses multiple layers to progressively extract higher-level features from raw input.\\n        Deep learning has revolutionized computer vision, NLP, and speech recognition.'),\n",
       "  np.float32(0.63186)),\n",
       " (Document(id='a0ea7af0-18b2-4336-847d-1887a8bca18d', metadata={'source': 'ML Basics', 'page': 1, 'topic': 'ML'}, page_content='Machine Learning is a subset of AI that enables systems to learn from data.\\n        Instead of being explicitly programmed, ML algorithms find patterns in data.\\n        Common types include supervised, unsupervised, and reinforcement learning.'),\n",
       "  np.float32(1.0620883))]"
      ]
     },
     "execution_count": 15,
     "metadata": {},
     "output_type": "execute_result"
    }
   ],
   "source": [
    "# let's perform similarity score\n",
    "\n",
    "loaded_vector_store.similarity_search_with_score(\"what is deep learning\", k=2)"
   ]
  },
  {
   "cell_type": "code",
   "execution_count": 16,
   "id": "001536e4",
   "metadata": {},
   "outputs": [
    {
     "data": {
      "text/plain": [
       "[Document(id='a0ea7af0-18b2-4336-847d-1887a8bca18d', metadata={'source': 'ML Basics', 'page': 1, 'topic': 'ML'}, page_content='Machine Learning is a subset of AI that enables systems to learn from data.\\n        Instead of being explicitly programmed, ML algorithms find patterns in data.\\n        Common types include supervised, unsupervised, and reinforcement learning.')]"
      ]
     },
     "execution_count": 16,
     "metadata": {},
     "output_type": "execute_result"
    }
   ],
   "source": [
    "# let's perform similarity with metadata filtering\n",
    "\n",
    "filter = {\"topic\": \"ML\"}\n",
    "\n",
    "filtered_result = loaded_vector_store.similarity_search(\n",
    "    query=\"what is machine learning\",\n",
    "    k=2,\n",
    "    filter=filter\n",
    "    )\n",
    "filtered_result"
   ]
  },
  {
   "cell_type": "markdown",
   "id": "7f12cdfa",
   "metadata": {},
   "source": [
    "### Building RAG chain with LCEL"
   ]
  },
  {
   "cell_type": "code",
   "execution_count": 17,
   "id": "09daea7b",
   "metadata": {},
   "outputs": [
    {
     "data": {
      "text/plain": [
       "ChatOpenAI(client=<openai.resources.chat.completions.completions.Completions object at 0x0000016C85E42390>, async_client=<openai.resources.chat.completions.completions.AsyncCompletions object at 0x0000016C85E431D0>, root_client=<openai.OpenAI object at 0x0000016C85E42090>, root_async_client=<openai.AsyncOpenAI object at 0x0000016C85E42F10>, model_name='chatgpt-4o-latest', model_kwargs={}, openai_api_key=SecretStr('**********'))"
      ]
     },
     "execution_count": 17,
     "metadata": {},
     "output_type": "execute_result"
    }
   ],
   "source": [
    "import os\n",
    "from dotenv import load_dotenv\n",
    "load_dotenv()\n",
    "from langchain_groq import ChatGroq\n",
    "from langchain_openai import ChatOpenAI\n",
    "\n",
    "# os.environ['GROQ_API_KEY'] = os.getenv(\"GROQ_API_KEY\")\n",
    "\n",
    "llm = ChatOpenAI(model=\"chatgpt-4o-latest\")\n",
    "llm"
   ]
  },
  {
   "cell_type": "code",
   "execution_count": 18,
   "id": "bc13bad0",
   "metadata": {},
   "outputs": [],
   "source": [
    "simple_prompt = ChatPromptTemplate.from_template(\"\"\"\n",
    "                                                 Answer the question based only on the following context:\n",
    "                                                 Context: {context}\n",
    "                                                 Question: {Question}\n",
    "                                                 Answer:\"\"\")\n",
    "\n"
   ]
  },
  {
   "cell_type": "code",
   "execution_count": 19,
   "id": "1568d41c",
   "metadata": {},
   "outputs": [
    {
     "data": {
      "text/plain": [
       "VectorStoreRetriever(tags=['FAISS', 'OpenAIEmbeddings'], vectorstore=<langchain_community.vectorstores.faiss.FAISS object at 0x0000016C85E13F50>, search_kwargs={'k': 3})"
      ]
     },
     "execution_count": 19,
     "metadata": {},
     "output_type": "execute_result"
    }
   ],
   "source": [
    "retriever = vector_store.as_retriever(search_type=\"similarity\", search_kwargs={\"k\":3})\n",
    "retriever"
   ]
  },
  {
   "cell_type": "code",
   "execution_count": 20,
   "id": "5185b637",
   "metadata": {},
   "outputs": [],
   "source": [
    "from typing import List\n",
    "\n",
    "def format_doc(docs: List[Document])-> str:\n",
    "    formatted = []\n",
    "    for i, doc in enumerate(docs):\n",
    "        source = doc.metadata.get(\"source\", \"Unknown\")\n",
    "        formatted.append(f\"Document {i+1} (Source: {source})\\n{doc.page_content}\")\n",
    "    \n",
    "    print(formatted)\n",
    "    return \"\\n\\n\".join(formatted)\n"
   ]
  },
  {
   "cell_type": "code",
   "execution_count": 21,
   "id": "ea55c10f",
   "metadata": {},
   "outputs": [
    {
     "data": {
      "text/plain": [
       "{\n",
       "  Context: VectorStoreRetriever(tags=['FAISS', 'OpenAIEmbeddings'], vectorstore=<langchain_community.vectorstores.faiss.FAISS object at 0x0000016C85E13F50>, search_kwargs={'k': 3})\n",
       "           | RunnableLambda(format_doc),\n",
       "  Question: RunnablePassthrough()\n",
       "}\n",
       "| ChatPromptTemplate(input_variables=['Question', 'context'], input_types={}, partial_variables={}, messages=[HumanMessagePromptTemplate(prompt=PromptTemplate(input_variables=['Question', 'context'], input_types={}, partial_variables={}, template='\\n                                                 Answer the question based only on the following context:\\n                                                 Context: {context}\\n                                                 Question: {Question}\\n                                                 Answer:'), additional_kwargs={})])\n",
       "| ChatOpenAI(client=<openai.resources.chat.completions.completions.Completions object at 0x0000016C85E42390>, async_client=<openai.resources.chat.completions.completions.AsyncCompletions object at 0x0000016C85E431D0>, root_client=<openai.OpenAI object at 0x0000016C85E42090>, root_async_client=<openai.AsyncOpenAI object at 0x0000016C85E42F10>, model_name='chatgpt-4o-latest', model_kwargs={}, openai_api_key=SecretStr('**********'))\n",
       "| StrOutputParser()"
      ]
     },
     "execution_count": 21,
     "metadata": {},
     "output_type": "execute_result"
    }
   ],
   "source": [
    "from langchain.output_parsers import StructuredOutputParser\n",
    "\n",
    "rag = ({\"Context\": retriever | format_doc, \"Question\": RunnablePassthrough()}\n",
    "       | simple_prompt\n",
    "       | llm\n",
    "       | StrOutputParser()\n",
    "       )\n",
    "rag"
   ]
  },
  {
   "cell_type": "markdown",
   "id": "734014aa",
   "metadata": {},
   "source": [
    "### Conversational RAG Chain"
   ]
  },
  {
   "cell_type": "code",
   "execution_count": 23,
   "id": "a43af1bf",
   "metadata": {},
   "outputs": [
    {
     "name": "stderr",
     "output_type": "stream",
     "text": [
      "C:\\Users\\BhagwatChate\\AppData\\Local\\Temp\\ipykernel_1352\\3904111289.py:14: LangChainDeprecationWarning: Please see the migration guide at: https://python.langchain.com/docs/versions/migrating_memory/\n",
      "  memory = ConversationBufferMemory(return_messages=True)\n"
     ]
    }
   ],
   "source": [
    "from langchain.prompts import ChatPromptTemplate, MessagesPlaceholder\n",
    "from langchain.memory import ConversationBufferMemory\n",
    "from langchain_core.runnables import RunnablePassthrough\n",
    "from langchain_core.output_parsers import StrOutputParser\n",
    "\n",
    "# Prompt with memory placeholder\n",
    "conversational_prompt = ChatPromptTemplate.from_messages([\n",
    "    (\"system\", \"You are a helpful AI assistant. Use the provided context to answer questions.\"),\n",
    "    MessagesPlaceholder(variable_name=\"chat_history\"),  # will be filled by memory\n",
    "    (\"human\", \"Context: {context}\\n\\nQuestion: {input}\")\n",
    "])\n",
    "\n",
    "# Initialize memory\n",
    "memory = ConversationBufferMemory(return_messages=True)\n",
    "\n",
    "# Define chain without RunnableWithHistory\n",
    "def conversational_rag(user_input: str):\n",
    "    # 1. Load history\n",
    "    chat_history = memory.load_memory_variables({}).get(\"history\", [])\n",
    "\n",
    "    # 2. Add context via retriever\n",
    "    context = format_doc(retriever.invoke(user_input))\n",
    "\n",
    "    # 3. Run through prompt → llm → parser\n",
    "    response = (\n",
    "        RunnablePassthrough.assign(context=lambda x: context, input=lambda x: user_input, chat_history=lambda x: chat_history)\n",
    "        | conversational_prompt\n",
    "        | llm\n",
    "        | StrOutputParser()\n",
    "    ).invoke({})\n",
    "\n",
    "    # 4. Save turn in memory\n",
    "    memory.save_context({\"input\": user_input}, {\"output\": response})\n",
    "\n",
    "    return response\n"
   ]
  },
  {
   "cell_type": "code",
   "execution_count": 25,
   "id": "5ef97a83",
   "metadata": {},
   "outputs": [
    {
     "name": "stdout",
     "output_type": "stream",
     "text": [
      "['Document 1 (Source: AI Introduction)\\nArtificial Intelligence (AI) is the simulation of human intelligence in machines.\\n        These systems are designed to think like humans and mimic their actions.\\n        AI can be categorized into narrow AI and general AI.', 'Document 2 (Source: ML Basics)\\nMachine Learning is a subset of AI that enables systems to learn from data.\\n        Instead of being explicitly programmed, ML algorithms find patterns in data.\\n        Common types include supervised, unsupervised, and reinforcement learning.', 'Document 3 (Source: NLP Overview)\\nNatural Language Processing (NLP) is a branch of AI that helps computers understand human language.\\n        It combines computational linguistics with machine learning and deep learning models.\\n        Applications include chatbots, translation, sentiment analysis, and text summarization.']\n",
      "AI, or Artificial Intelligence, is the simulation of human intelligence in machines. These systems are designed to think like humans and mimic their actions. AI can be categorized into narrow AI and general AI. (Source: Document 1 - AI Introduction)\n",
      "['Document 1 (Source: AI Introduction)\\nArtificial Intelligence (AI) is the simulation of human intelligence in machines.\\n        These systems are designed to think like humans and mimic their actions.\\n        AI can be categorized into narrow AI and general AI.', 'Document 2 (Source: Deep Learning)\\nDeep Learning is a subset of machine learning based on artificial neural networks.\\n        It uses multiple layers to progressively extract higher-level features from raw input.\\n        Deep learning has revolutionized computer vision, NLP, and speech recognition.', 'Document 3 (Source: NLP Overview)\\nNatural Language Processing (NLP) is a branch of AI that helps computers understand human language.\\n        It combines computational linguistics with machine learning and deep learning models.\\n        Applications include chatbots, translation, sentiment analysis, and text summarization.']\n",
      "The capital of India is New Delhi.\n",
      "['Document 1 (Source: AI Introduction)\\nArtificial Intelligence (AI) is the simulation of human intelligence in machines.\\n        These systems are designed to think like humans and mimic their actions.\\n        AI can be categorized into narrow AI and general AI.', 'Document 2 (Source: ML Basics)\\nMachine Learning is a subset of AI that enables systems to learn from data.\\n        Instead of being explicitly programmed, ML algorithms find patterns in data.\\n        Common types include supervised, unsupervised, and reinforcement learning.', 'Document 3 (Source: NLP Overview)\\nNatural Language Processing (NLP) is a branch of AI that helps computers understand human language.\\n        It combines computational linguistics with machine learning and deep learning models.\\n        Applications include chatbots, translation, sentiment analysis, and text summarization.']\n",
      "You previously asked the following questions:\n",
      "\n",
      "1. \"What is AI?\"  \n",
      "2. \"What is the capital of India?\"\n"
     ]
    }
   ],
   "source": [
    "print(conversational_rag(\"What is AI?\"))\n",
    "print(conversational_rag(\"What is the capital of India?\"))\n",
    "print(conversational_rag(\"What questions did I ask before?\"))\n"
   ]
  },
  {
   "cell_type": "markdown",
   "id": "489a238e",
   "metadata": {},
   "source": [
    "### Streaming RAG Chain"
   ]
  },
  {
   "cell_type": "code",
   "execution_count": null,
   "id": "5354fe38",
   "metadata": {},
   "outputs": [],
   "source": [
    "from operator import itemgetter\n",
    "llm = ChatOpenAI(model=\"chatgpt-4o-latest\")\n",
    "\n",
    "streaming_rag_chain = (\n",
    "    {\n",
    "        \"context\": itemgetter(\"Question\") | retriever | format_doc,\n",
    "        \"Question\": itemgetter(\"Question\"),\n",
    "    }\n",
    "    | simple_prompt\n",
    "    | llm\n",
    "    | StrOutputParser()\n",
    ")\n",
    "\n",
    "response = streaming_rag_chain.invoke({\"Question\": \"What is AI?\"})\n",
    "print(response)\n"
   ]
  },
  {
   "cell_type": "code",
   "execution_count": null,
   "id": "2127cc7c",
   "metadata": {},
   "outputs": [],
   "source": [
    "streaming_rag_chain.invoke({\"Question\": \"What is AI?\"})"
   ]
  },
  {
   "cell_type": "markdown",
   "id": "d6b4c9c1",
   "metadata": {},
   "source": [
    "### RAG Chain Types:\n",
    "- simple RAG chain - basic Q&A\n",
    "- Conversational RAG chain - maintains chat history\n",
    "- Streaming RAG chain - supports token streaming"
   ]
  }
 ],
 "metadata": {
  "kernelspec": {
   "display_name": "venv (3.11.7)",
   "language": "python",
   "name": "python3"
  },
  "language_info": {
   "codemirror_mode": {
    "name": "ipython",
    "version": 3
   },
   "file_extension": ".py",
   "mimetype": "text/x-python",
   "name": "python",
   "nbconvert_exporter": "python",
   "pygments_lexer": "ipython3",
   "version": "3.11.7"
  }
 },
 "nbformat": 4,
 "nbformat_minor": 5
}
